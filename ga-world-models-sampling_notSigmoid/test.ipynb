{
 "cells": [
  {
   "cell_type": "code",
   "execution_count": 7,
   "metadata": {},
   "outputs": [],
   "source": [
    "import torch\n",
    "import torch.nn as nn\n",
    "import torch.nn.functional as F\n",
    "from torch.distributions.normal import Normal\n",
    "from torchvision import transforms\n",
    "import torch.optim as optim\n",
    "import numpy as np\n",
    "import gym\n",
    "import os\n",
    "import pandas as pd\n",
    "import warnings\n",
    "\n",
    "from models import MDRNNCell, VAE, Controller, MDRNN\n",
    "from train_mdn import *\n",
    "\n",
    "warnings.simplefilter(\"ignore\")"
   ]
  },
  {
   "cell_type": "code",
   "execution_count": 2,
   "metadata": {},
   "outputs": [],
   "source": [
    "device = \"cuda\"\n",
    "time_limit = 1000\n",
    "discrete = 0\n",
    "\n",
    "# Load models\n",
    "rollout = RolloutGenerator(device, time_limit, discrete)"
   ]
  },
  {
   "cell_type": "code",
   "execution_count": 3,
   "metadata": {},
   "outputs": [
    {
     "name": "stderr",
     "output_type": "stream",
     "text": [
      "c:\\Users\\daiki\\miniconda3\\envs\\env_torch_world_models\\lib\\site-packages\\gym\\utils\\passive_env_checker.py:233: DeprecationWarning: `np.bool8` is a deprecated alias for `np.bool_`.  (Deprecated NumPy 1.24)\n",
      "  if not isinstance(terminated, (bool, np.bool8)):\n"
     ]
    }
   ],
   "source": [
    "cumulative, rollout_current_hidden, rollout_next_hidden, rollout_latents, rollout_actions, rollout_rewards, rollout_dones = rollout.do_rollout()"
   ]
  },
  {
   "cell_type": "code",
   "execution_count": 4,
   "metadata": {},
   "outputs": [
    {
     "name": "stdout",
     "output_type": "stream",
     "text": [
      "Cumulative reward:  392.26241134751604\n",
      "Rollout current hidden:  (510, 1, 256)\n",
      "Rollout next hidden:  (510, 1, 256)\n",
      "Rollout latents:  (511, 32)\n",
      "Rollout actions:  (510, 3)\n",
      "Rollout rewards:  (510,)\n",
      "Rollout dones:  (510,)\n"
     ]
    }
   ],
   "source": [
    "print(\"Cumulative reward: \", cumulative)\n",
    "print(\"Rollout current hidden: \", rollout_current_hidden.shape)\n",
    "print(\"Rollout next hidden: \", rollout_next_hidden.shape)\n",
    "print(\"Rollout latents: \", rollout_latents.shape)\n",
    "print(\"Rollout actions: \", rollout_actions.shape)\n",
    "print(\"Rollout rewards: \", rollout_rewards.shape)\n",
    "print(\"Rollout dones: \", rollout_dones.shape)"
   ]
  },
  {
   "cell_type": "code",
   "execution_count": 5,
   "metadata": {},
   "outputs": [
    {
     "data": {
      "text/plain": [
       "'./results/best_1_1_G399.p'"
      ]
     },
     "execution_count": 5,
     "metadata": {},
     "output_type": "execute_result"
    }
   ],
   "source": [
    "dir_path = './results/'\n",
    "files = os.listdir(dir_path)\n",
    "files = [f for f in files if 'best_1_1_G' in f]\n",
    "\n",
    "num = -1\n",
    "idx = 0\n",
    "file = ''\n",
    "for idx, fi in enumerate(files):\n",
    "    Gnum = fi.split('G')[1].split('.')[0]\n",
    "    Gnum = int(Gnum)\n",
    "    if Gnum > num:\n",
    "        file = fi\n",
    "        num = Gnum\n",
    "        \n",
    "file_path = dir_path + file\n",
    "file_path"
   ]
  },
  {
   "cell_type": "code",
   "execution_count": 6,
   "metadata": {},
   "outputs": [
    {
     "data": {
      "text/plain": [
       "MDRNNCell(\n",
       "  (gmm_linear): Linear(in_features=256, out_features=327, bias=True)\n",
       "  (rnn): LSTMCell(35, 256)\n",
       ")"
      ]
     },
     "execution_count": 6,
     "metadata": {},
     "output_type": "execute_result"
    }
   ],
   "source": [
    "ASIZE, LSIZE, RSIZE, RED_SIZE, SIZE = 3, 32, 256, 64, 64\n",
    "\n",
    "s = torch.load(file_path) # ファイルから個体をロード\n",
    "mdrnn = MDRNNCell(LSIZE, ASIZE, RSIZE, 5).to(device)\n",
    "mdrnn.load_state_dict(s['mdrnn'])\n",
    "mdrnn"
   ]
  },
  {
   "cell_type": "code",
   "execution_count": 7,
   "metadata": {},
   "outputs": [],
   "source": [
    "def gmm_loss(batch, mus, sigmas, logpi, reduce=True):\n",
    "    \"\"\"1step MDN-RNNの損失関数\n",
    "\n",
    "    params:\n",
    "        batch: (B, *) バッチ\n",
    "        mus: (B, K, A) 平均\n",
    "        sigmas: (B, K, A) 分散\n",
    "        logpi: (B, K) log(pi)\n",
    "        reduce: bool, default True\n",
    "    \"\"\"\n",
    "    batch = batch.unsqueeze(-2)\n",
    "    sigmas = torch.abs(sigmas)\n",
    "    normal_dist = Normal(mus, sigmas)\n",
    "    g_log_probs = normal_dist.log_prob(batch)\n",
    "    g_log_probs = logpi + torch.sum(g_log_probs, dim=-1)\n",
    "    max_log_probs = torch.max(g_log_probs, dim=-1, keepdim=True)[0]\n",
    "    g_log_probs = g_log_probs - max_log_probs\n",
    "\n",
    "    g_probs = torch.exp(g_log_probs)\n",
    "    probs = torch.sum(g_probs, dim=-1)\n",
    "\n",
    "    log_prob = max_log_probs.squeeze() + torch.log(probs)\n",
    "    if reduce:\n",
    "        return - torch.mean(log_prob)\n",
    "    return - log_prob"
   ]
  },
  {
   "cell_type": "code",
   "execution_count": 7,
   "metadata": {},
   "outputs": [
    {
     "name": "stdout",
     "output_type": "stream",
     "text": [
      "True State:  (510, 32)\n",
      "True Reward:  (510,)\n",
      "Mus:  torch.Size([510, 5, 32])\n",
      "Sigmas:  torch.Size([510, 5, 32])\n",
      "Logpi:  torch.Size([510, 5])\n",
      "Reward:  torch.Size([510])\n",
      "Done:  torch.Size([510])\n"
     ]
    }
   ],
   "source": [
    "# rnnレイヤーの重みを固定\n",
    "for param in mdrnn.rnn.parameters():\n",
    "    param.requires_grad = False\n",
    "\n",
    "mdn = mdrnn.gmm_linear\n",
    "mdn_input = rollout_next_hidden.reshape(-1, RSIZE)\n",
    "mdn_input = torch.tensor(mdn_input, dtype=torch.float32, device=device)\n",
    "mdn_out = mdn(mdn_input)\n",
    "mus = mdn_out[:, :5 * LSIZE].reshape(-1, 5, LSIZE)\n",
    "sigmas = mdn_out[:, 5 * LSIZE: 2*5*LSIZE].reshape(-1, 5, LSIZE)\n",
    "pi = mdn_out[:, 2*5*LSIZE:2*5*LSIZE+5].reshape(-1, 5)\n",
    "logpi = F.log_softmax(pi, dim=-2)\n",
    "reward = mdn_out[:, -2]\n",
    "done = mdn_out[:, -1]\n",
    "\n",
    "print(\"True State: \", rollout_latents[1:].shape)\n",
    "print(\"True Reward: \", rollout_rewards.shape)\n",
    "print(\"Mus: \", mus.shape)\n",
    "print(\"Sigmas: \", sigmas.shape)\n",
    "print(\"Logpi: \", logpi.shape)\n",
    "print(\"Reward: \", reward.shape)\n",
    "print(\"Done: \", done.shape)"
   ]
  },
  {
   "cell_type": "code",
   "execution_count": 9,
   "metadata": {},
   "outputs": [],
   "source": [
    "rollout_latents = torch.tensor(rollout_latents, dtype=torch.float32, device=device)\n",
    "\n",
    "loss = gmm_loss(rollout_latents[1:], mus[:-1], sigmas[:-1], logpi[:-1], reduce=True)"
   ]
  },
  {
   "cell_type": "code",
   "execution_count": 10,
   "metadata": {},
   "outputs": [
    {
     "data": {
      "text/plain": [
       "tensor(2808.7278, device='cuda:0', grad_fn=<NegBackward0>)"
      ]
     },
     "execution_count": 10,
     "metadata": {},
     "output_type": "execute_result"
    }
   ],
   "source": [
    "loss"
   ]
  },
  {
   "cell_type": "code",
   "execution_count": 18,
   "metadata": {},
   "outputs": [],
   "source": [
    "def reward_loss(batch, rewards, reduce=True):\n",
    "    \"\"\"rewardの対数オッズ\n",
    "\n",
    "    params:\n",
    "        batch: (B, *) バッチ\n",
    "        reward: (B, *) reward\n",
    "        reduce: bool, default True\n",
    "    \"\"\"\n",
    "    loss = nn.BCEWithLogitsLoss(reduction='none')\n",
    "    reward_loss = loss(batch, rewards)\n",
    "\n",
    "    if reduce:\n",
    "        return - torch.mean(reward_loss)\n",
    "    return - reward_loss"
   ]
  },
  {
   "cell_type": "code",
   "execution_count": 12,
   "metadata": {},
   "outputs": [
    {
     "name": "stdout",
     "output_type": "stream",
     "text": [
      "Rollout Rewards:  torch.Size([1002, 1])\n",
      "Reward:  torch.Size([1002, 1])\n"
     ]
    }
   ],
   "source": [
    "rollout_rewards = torch.tensor(rollout_rewards, dtype=torch.float32, device=device).view(-1, 1)\n",
    "rollout_rewards.cpu()\n",
    "reward = reward.view(-1, 1)\n",
    "reward.cpu()\n",
    "\n",
    "print(\"Rollout Rewards: \", rollout_rewards.shape)\n",
    "print(\"Reward: \", reward.shape)"
   ]
  },
  {
   "cell_type": "code",
   "execution_count": 19,
   "metadata": {},
   "outputs": [],
   "source": [
    "loss = reward_loss(rollout_rewards, reward, reduce=True)"
   ]
  },
  {
   "cell_type": "code",
   "execution_count": 20,
   "metadata": {},
   "outputs": [
    {
     "data": {
      "text/plain": [
       "tensor(-0.8885, device='cuda:0', grad_fn=<NegBackward0>)"
      ]
     },
     "execution_count": 20,
     "metadata": {},
     "output_type": "execute_result"
    }
   ],
   "source": [
    "loss"
   ]
  },
  {
   "cell_type": "code",
   "execution_count": 14,
   "metadata": {},
   "outputs": [
    {
     "data": {
      "text/plain": [
       "'./results/best_1_1_G399.p'"
      ]
     },
     "execution_count": 14,
     "metadata": {},
     "output_type": "execute_result"
    }
   ],
   "source": [
    "dir_path = './results/'\n",
    "files = os.listdir(dir_path)\n",
    "files = [f for f in files if 'best_1_1_G' in f]\n",
    "\n",
    "num = -1\n",
    "idx = 0\n",
    "file = ''\n",
    "for idx, fi in enumerate(files):\n",
    "    Gnum = fi.split('G')[1].split('.')[0]\n",
    "    Gnum = int(Gnum)\n",
    "    if Gnum > num:\n",
    "        file = fi\n",
    "        num = Gnum\n",
    "        \n",
    "file_path = dir_path + file\n",
    "file_path"
   ]
  },
  {
   "cell_type": "code",
   "execution_count": 15,
   "metadata": {},
   "outputs": [
    {
     "data": {
      "text/plain": [
       "'./results/mdn_1990.p'"
      ]
     },
     "execution_count": 15,
     "metadata": {},
     "output_type": "execute_result"
    }
   ],
   "source": [
    "dir_path = './results/'\n",
    "files = os.listdir(dir_path)\n",
    "files = [f for f in files if 'mdn_' in f]\n",
    "\n",
    "num = -1\n",
    "idx = 0\n",
    "checkpoint_file = ''\n",
    "for idx, fi in enumerate(files):\n",
    "    Gnum = fi.split('_')[1].split('.')[0]\n",
    "    Gnum = int(Gnum)\n",
    "    if Gnum > num:\n",
    "        checkpoint_file = fi\n",
    "        num = Gnum\n",
    "        \n",
    "checkpoint_path = dir_path + checkpoint_file\n",
    "checkpoint_path"
   ]
  },
  {
   "cell_type": "code",
   "execution_count": 16,
   "metadata": {},
   "outputs": [],
   "source": [
    "def gmm_loss(batch, mus, sigmas, logpi, reduce=True):\n",
    "    \"\"\"1step MDN-RNNの損失関数\n",
    "\n",
    "    params:\n",
    "        batch: (B, *) バッチ\n",
    "        mus: (B, K, A) 平均\n",
    "        sigmas: (B, K, A) 分散\n",
    "        logpi: (B, K) log(pi)\n",
    "        reduce: bool, default True\n",
    "    \"\"\"\n",
    "    batch = batch.unsqueeze(-2)\n",
    "    normal_dist = Normal(mus, torch.abs(sigmas)+1e-8)\n",
    "    g_log_probs = normal_dist.log_prob(batch)\n",
    "    g_log_probs = logpi + torch.sum(g_log_probs, dim=-1)\n",
    "    max_log_probs = torch.max(g_log_probs, dim=-1, keepdim=True)[0]\n",
    "    g_log_probs = g_log_probs - max_log_probs\n",
    "\n",
    "    g_probs = torch.exp(g_log_probs)\n",
    "    probs = torch.sum(g_probs, dim=-1)\n",
    "\n",
    "    log_prob = max_log_probs.squeeze() + torch.log(probs)\n",
    "    if reduce:\n",
    "        return - torch.mean(log_prob)\n",
    "    return - log_prob"
   ]
  },
  {
   "cell_type": "code",
   "execution_count": 17,
   "metadata": {},
   "outputs": [],
   "source": [
    "def reward_loss(batch, rewards, reduce=True):\n",
    "    \"\"\"rewardの対数オッズ\n",
    "\n",
    "    params:\n",
    "        batch: (B, *) バッチ\n",
    "        reward: (B, *) reward\n",
    "        reduce: bool, default True\n",
    "    \"\"\"\n",
    "    loss = nn.BCEWithLogitsLoss(reduction='none')\n",
    "    reward_loss = loss(batch, rewards)\n",
    "\n",
    "    if reduce:\n",
    "        return torch.mean(reward_loss)\n",
    "    return reward_loss"
   ]
  },
  {
   "cell_type": "code",
   "execution_count": 19,
   "metadata": {},
   "outputs": [
    {
     "name": "stdout",
     "output_type": "stream",
     "text": [
      "Epoch: 1991, Loss: 322.2157897949219, GMM Loss: 327.6603698730469, Reward Loss: -5.444593906402588\n",
      "Epoch: 2001, Loss: 282.4644470214844, GMM Loss: 288.55810546875, Reward Loss: -6.09364652633667\n",
      "Epoch: 2011, Loss: 301.6759948730469, GMM Loss: 307.2484436035156, Reward Loss: -5.572458267211914\n",
      "Epoch: 2021, Loss: 264.56549072265625, GMM Loss: 269.3173522949219, Reward Loss: -4.751866340637207\n",
      "Epoch: 2031, Loss: 305.8426513671875, GMM Loss: 311.25311279296875, Reward Loss: -5.410459518432617\n",
      "Epoch: 2041, Loss: 278.0926818847656, GMM Loss: 284.2248840332031, Reward Loss: -6.132214546203613\n",
      "Epoch: 2051, Loss: 283.874755859375, GMM Loss: 289.48834228515625, Reward Loss: -5.613580226898193\n",
      "Epoch: 2061, Loss: 305.2111511230469, GMM Loss: 310.7350769042969, Reward Loss: -5.523913860321045\n",
      "Epoch: 2071, Loss: 281.4394836425781, GMM Loss: 287.44244384765625, Reward Loss: -6.0029616355896\n",
      "Epoch: 2081, Loss: 268.91790771484375, GMM Loss: 274.3283996582031, Reward Loss: -5.410506248474121\n",
      "Epoch: 2091, Loss: 277.3218994140625, GMM Loss: 283.2136535644531, Reward Loss: -5.891763210296631\n",
      "Epoch: 2101, Loss: 292.52288818359375, GMM Loss: 298.12152099609375, Reward Loss: -5.598631381988525\n",
      "Epoch: 2111, Loss: 285.7507629394531, GMM Loss: 292.5826110839844, Reward Loss: -6.831843852996826\n",
      "Epoch: 2121, Loss: 237.71493530273438, GMM Loss: 244.25526428222656, Reward Loss: -6.5403361320495605\n",
      "Epoch: 2131, Loss: 311.5887756347656, GMM Loss: 315.892578125, Reward Loss: -4.303803443908691\n",
      "Epoch: 2141, Loss: 320.3361511230469, GMM Loss: 324.661376953125, Reward Loss: -4.325214862823486\n",
      "Epoch: 2151, Loss: 261.9137878417969, GMM Loss: 269.0316162109375, Reward Loss: -7.117827892303467\n",
      "Epoch: 2161, Loss: 281.8582458496094, GMM Loss: 286.9601135253906, Reward Loss: -5.101870059967041\n",
      "Epoch: 2171, Loss: 278.8929138183594, GMM Loss: 284.36407470703125, Reward Loss: -5.471157073974609\n",
      "Epoch: 2181, Loss: 251.63609313964844, GMM Loss: 258.727783203125, Reward Loss: -7.091691493988037\n",
      "Epoch: 2191, Loss: 265.724609375, GMM Loss: 271.6290283203125, Reward Loss: -5.904428482055664\n",
      "Epoch: 2201, Loss: 261.0435791015625, GMM Loss: 265.9219055175781, Reward Loss: -4.87831974029541\n",
      "Epoch: 2211, Loss: 274.0146179199219, GMM Loss: 280.05133056640625, Reward Loss: -6.036717414855957\n",
      "Epoch: 2221, Loss: 299.8431701660156, GMM Loss: 305.7416076660156, Reward Loss: -5.898431777954102\n",
      "Epoch: 2231, Loss: 266.53515625, GMM Loss: 271.05853271484375, Reward Loss: -4.523362636566162\n",
      "Epoch: 2241, Loss: 239.72061157226562, GMM Loss: 246.96920776367188, Reward Loss: -7.248594760894775\n",
      "Epoch: 2251, Loss: 274.6861572265625, GMM Loss: 280.0586853027344, Reward Loss: -5.372519493103027\n",
      "Epoch: 2261, Loss: 287.8052673339844, GMM Loss: 293.8024597167969, Reward Loss: -5.997200012207031\n",
      "Epoch: 2271, Loss: 263.352294921875, GMM Loss: 268.1495666503906, Reward Loss: -4.797277927398682\n",
      "Epoch: 2281, Loss: 282.3577575683594, GMM Loss: 286.80682373046875, Reward Loss: -4.449057579040527\n"
     ]
    },
    {
     "ename": "KeyboardInterrupt",
     "evalue": "",
     "output_type": "error",
     "traceback": [
      "\u001b[1;31m---------------------------------------------------------------------------\u001b[0m",
      "\u001b[1;31mKeyboardInterrupt\u001b[0m                         Traceback (most recent call last)",
      "\u001b[1;32mc:\\Users\\daiki\\Documents\\ga-world-models-exp\\ga-world-models-sampling copy\\test.ipynb セル 19\u001b[0m line \u001b[0;36m3\n\u001b[0;32m     <a href='vscode-notebook-cell:/c%3A/Users/daiki/Documents/ga-world-models-exp/ga-world-models-sampling%20copy/test.ipynb#X23sZmlsZQ%3D%3D?line=29'>30</a>\u001b[0m     checkpoint_flag \u001b[39m=\u001b[39m \u001b[39mTrue\u001b[39;00m\n\u001b[0;32m     <a href='vscode-notebook-cell:/c%3A/Users/daiki/Documents/ga-world-models-exp/ga-world-models-sampling%20copy/test.ipynb#X23sZmlsZQ%3D%3D?line=32'>33</a>\u001b[0m \u001b[39mfor\u001b[39;00m i \u001b[39min\u001b[39;00m \u001b[39mrange\u001b[39m(epoch):\n\u001b[1;32m---> <a href='vscode-notebook-cell:/c%3A/Users/daiki/Documents/ga-world-models-exp/ga-world-models-sampling%20copy/test.ipynb#X23sZmlsZQ%3D%3D?line=33'>34</a>\u001b[0m     cumulative, rollout_current_hidden, rollout_next_hidden, rollout_latents, rollout_actions, rollout_rewards, rollout_dones \u001b[39m=\u001b[39m rollout\u001b[39m.\u001b[39;49mdo_rollout()\n\u001b[0;32m     <a href='vscode-notebook-cell:/c%3A/Users/daiki/Documents/ga-world-models-exp/ga-world-models-sampling%20copy/test.ipynb#X23sZmlsZQ%3D%3D?line=34'>35</a>\u001b[0m     rollout_latents \u001b[39m=\u001b[39m rollout_latents[\u001b[39m1\u001b[39m:]\n\u001b[0;32m     <a href='vscode-notebook-cell:/c%3A/Users/daiki/Documents/ga-world-models-exp/ga-world-models-sampling%20copy/test.ipynb#X23sZmlsZQ%3D%3D?line=36'>37</a>\u001b[0m     optimizer\u001b[39m.\u001b[39mzero_grad()\n",
      "File \u001b[1;32mc:\\Users\\daiki\\Documents\\ga-world-models-exp\\ga-world-models-sampling copy\\train_mdn.py:156\u001b[0m, in \u001b[0;36mRolloutGenerator.do_rollout\u001b[1;34m(self, render, early_termination)\u001b[0m\n\u001b[0;32m    151\u001b[0m \u001b[39mself\u001b[39m\u001b[39m.\u001b[39mrollout_hidden\u001b[39m.\u001b[39mappend(hidden[\u001b[39m0\u001b[39m]\u001b[39m.\u001b[39mcpu()\u001b[39m.\u001b[39mnumpy())\n\u001b[0;32m    152\u001b[0m \u001b[39m#Steering: Real valued in [-1, 1] \u001b[39;00m\n\u001b[0;32m    153\u001b[0m \u001b[39m#Gas: Real valued in [0, 1]\u001b[39;00m\n\u001b[0;32m    154\u001b[0m \u001b[39m#Break: Real valued in [0, 1]\u001b[39;00m\n\u001b[1;32m--> 156\u001b[0m obs, reward, done, _, _ \u001b[39m=\u001b[39m \u001b[39mself\u001b[39;49m\u001b[39m.\u001b[39;49menv\u001b[39m.\u001b[39;49mstep(action) \u001b[39m# 行動を実行し、報酬を受け取る：obs(3, 64, 64), reward, done, info\u001b[39;00m\n\u001b[0;32m    157\u001b[0m \u001b[39mself\u001b[39m\u001b[39m.\u001b[39mrollout_rewards\u001b[39m.\u001b[39mappend(reward)\n\u001b[0;32m    158\u001b[0m \u001b[39mself\u001b[39m\u001b[39m.\u001b[39mrollout_dones\u001b[39m.\u001b[39mappend(done)\n",
      "File \u001b[1;32mc:\\Users\\daiki\\miniconda3\\envs\\env_torch_world_models\\lib\\site-packages\\gym\\wrappers\\time_limit.py:50\u001b[0m, in \u001b[0;36mTimeLimit.step\u001b[1;34m(self, action)\u001b[0m\n\u001b[0;32m     39\u001b[0m \u001b[39mdef\u001b[39;00m \u001b[39mstep\u001b[39m(\u001b[39mself\u001b[39m, action):\n\u001b[0;32m     40\u001b[0m \u001b[39m    \u001b[39m\u001b[39m\"\"\"Steps through the environment and if the number of steps elapsed exceeds ``max_episode_steps`` then truncate.\u001b[39;00m\n\u001b[0;32m     41\u001b[0m \n\u001b[0;32m     42\u001b[0m \u001b[39m    Args:\u001b[39;00m\n\u001b[1;32m   (...)\u001b[0m\n\u001b[0;32m     48\u001b[0m \n\u001b[0;32m     49\u001b[0m \u001b[39m    \"\"\"\u001b[39;00m\n\u001b[1;32m---> 50\u001b[0m     observation, reward, terminated, truncated, info \u001b[39m=\u001b[39m \u001b[39mself\u001b[39;49m\u001b[39m.\u001b[39;49menv\u001b[39m.\u001b[39;49mstep(action)\n\u001b[0;32m     51\u001b[0m     \u001b[39mself\u001b[39m\u001b[39m.\u001b[39m_elapsed_steps \u001b[39m+\u001b[39m\u001b[39m=\u001b[39m \u001b[39m1\u001b[39m\n\u001b[0;32m     53\u001b[0m     \u001b[39mif\u001b[39;00m \u001b[39mself\u001b[39m\u001b[39m.\u001b[39m_elapsed_steps \u001b[39m>\u001b[39m\u001b[39m=\u001b[39m \u001b[39mself\u001b[39m\u001b[39m.\u001b[39m_max_episode_steps:\n",
      "File \u001b[1;32mc:\\Users\\daiki\\miniconda3\\envs\\env_torch_world_models\\lib\\site-packages\\gym\\wrappers\\order_enforcing.py:37\u001b[0m, in \u001b[0;36mOrderEnforcing.step\u001b[1;34m(self, action)\u001b[0m\n\u001b[0;32m     35\u001b[0m \u001b[39mif\u001b[39;00m \u001b[39mnot\u001b[39;00m \u001b[39mself\u001b[39m\u001b[39m.\u001b[39m_has_reset:\n\u001b[0;32m     36\u001b[0m     \u001b[39mraise\u001b[39;00m ResetNeeded(\u001b[39m\"\u001b[39m\u001b[39mCannot call env.step() before calling env.reset()\u001b[39m\u001b[39m\"\u001b[39m)\n\u001b[1;32m---> 37\u001b[0m \u001b[39mreturn\u001b[39;00m \u001b[39mself\u001b[39;49m\u001b[39m.\u001b[39;49menv\u001b[39m.\u001b[39;49mstep(action)\n",
      "File \u001b[1;32mc:\\Users\\daiki\\miniconda3\\envs\\env_torch_world_models\\lib\\site-packages\\gym\\wrappers\\env_checker.py:39\u001b[0m, in \u001b[0;36mPassiveEnvChecker.step\u001b[1;34m(self, action)\u001b[0m\n\u001b[0;32m     37\u001b[0m     \u001b[39mreturn\u001b[39;00m env_step_passive_checker(\u001b[39mself\u001b[39m\u001b[39m.\u001b[39menv, action)\n\u001b[0;32m     38\u001b[0m \u001b[39melse\u001b[39;00m:\n\u001b[1;32m---> 39\u001b[0m     \u001b[39mreturn\u001b[39;00m \u001b[39mself\u001b[39;49m\u001b[39m.\u001b[39;49menv\u001b[39m.\u001b[39;49mstep(action)\n",
      "File \u001b[1;32mc:\\Users\\daiki\\miniconda3\\envs\\env_torch_world_models\\lib\\site-packages\\gym\\envs\\box2d\\car_racing.py:541\u001b[0m, in \u001b[0;36mCarRacing.step\u001b[1;34m(self, action)\u001b[0m\n\u001b[0;32m    538\u001b[0m \u001b[39mself\u001b[39m\u001b[39m.\u001b[39mworld\u001b[39m.\u001b[39mStep(\u001b[39m1.0\u001b[39m \u001b[39m/\u001b[39m FPS, \u001b[39m6\u001b[39m \u001b[39m*\u001b[39m \u001b[39m30\u001b[39m, \u001b[39m2\u001b[39m \u001b[39m*\u001b[39m \u001b[39m30\u001b[39m)\n\u001b[0;32m    539\u001b[0m \u001b[39mself\u001b[39m\u001b[39m.\u001b[39mt \u001b[39m+\u001b[39m\u001b[39m=\u001b[39m \u001b[39m1.0\u001b[39m \u001b[39m/\u001b[39m FPS\n\u001b[1;32m--> 541\u001b[0m \u001b[39mself\u001b[39m\u001b[39m.\u001b[39mstate \u001b[39m=\u001b[39m \u001b[39mself\u001b[39;49m\u001b[39m.\u001b[39;49m_render(\u001b[39m\"\u001b[39;49m\u001b[39mstate_pixels\u001b[39;49m\u001b[39m\"\u001b[39;49m)\n\u001b[0;32m    543\u001b[0m step_reward \u001b[39m=\u001b[39m \u001b[39m0\u001b[39m\n\u001b[0;32m    544\u001b[0m terminated \u001b[39m=\u001b[39m \u001b[39mFalse\u001b[39;00m\n",
      "File \u001b[1;32mc:\\Users\\daiki\\miniconda3\\envs\\env_torch_world_models\\lib\\site-packages\\gym\\envs\\box2d\\car_racing.py:605\u001b[0m, in \u001b[0;36mCarRacing._render\u001b[1;34m(self, mode)\u001b[0m\n\u001b[0;32m    596\u001b[0m \u001b[39mself\u001b[39m\u001b[39m.\u001b[39m_render_road(zoom, trans, angle)\n\u001b[0;32m    597\u001b[0m \u001b[39mself\u001b[39m\u001b[39m.\u001b[39mcar\u001b[39m.\u001b[39mdraw(\n\u001b[0;32m    598\u001b[0m     \u001b[39mself\u001b[39m\u001b[39m.\u001b[39msurf,\n\u001b[0;32m    599\u001b[0m     zoom,\n\u001b[1;32m   (...)\u001b[0m\n\u001b[0;32m    602\u001b[0m     mode \u001b[39mnot\u001b[39;00m \u001b[39min\u001b[39;00m [\u001b[39m\"\u001b[39m\u001b[39mstate_pixels_list\u001b[39m\u001b[39m\"\u001b[39m, \u001b[39m\"\u001b[39m\u001b[39mstate_pixels\u001b[39m\u001b[39m\"\u001b[39m],\n\u001b[0;32m    603\u001b[0m )\n\u001b[1;32m--> 605\u001b[0m \u001b[39mself\u001b[39m\u001b[39m.\u001b[39msurf \u001b[39m=\u001b[39m pygame\u001b[39m.\u001b[39;49mtransform\u001b[39m.\u001b[39;49mflip(\u001b[39mself\u001b[39;49m\u001b[39m.\u001b[39;49msurf, \u001b[39mFalse\u001b[39;49;00m, \u001b[39mTrue\u001b[39;49;00m)\n\u001b[0;32m    607\u001b[0m \u001b[39m# showing stats\u001b[39;00m\n\u001b[0;32m    608\u001b[0m \u001b[39mself\u001b[39m\u001b[39m.\u001b[39m_render_indicators(WINDOW_W, WINDOW_H)\n",
      "\u001b[1;31mKeyboardInterrupt\u001b[0m: "
     ]
    }
   ],
   "source": [
    "epoch = 2000\n",
    "device = \"cuda\"\n",
    "time_limit = 1000\n",
    "discrete = 0\n",
    "epoch_num = 1\n",
    "checkpoint_flag = False\n",
    "ASIZE, LSIZE, RSIZE, RED_SIZE, SIZE = 3, 32, 256, 64, 64\n",
    "\n",
    "s = torch.load(file_path)\n",
    "mdrnn = MDRNNCell(LSIZE, ASIZE, RSIZE, 5).to(device)\n",
    "mdrnn.load_state_dict(s['mdrnn'])\n",
    "\n",
    "for param in mdrnn.rnn.parameters():\n",
    "    param.requires_grad = False\n",
    "\n",
    "mdn = mdrnn.gmm_linear\n",
    "\n",
    "losses = []\n",
    "losses_mdn = []\n",
    "losses_reward = []\n",
    "rollout = RolloutGenerator(device, time_limit, discrete)\n",
    "\n",
    "optimizer = optim.Adam(mdn.parameters(), lr=1e-4)\n",
    "\n",
    "if checkpoint_file != '':\n",
    "    o = torch.load(checkpoint_path)\n",
    "    mdn.load_state_dict(o['mdn'])\n",
    "    optimizer.load_state_dict(o['optimizer'])\n",
    "    epoch_num = o['epoch']\n",
    "    checkpoint_flag = True\n",
    "\n",
    "\n",
    "for i in range(epoch):\n",
    "    cumulative, rollout_current_hidden, rollout_next_hidden, rollout_latents, rollout_actions, rollout_rewards, rollout_dones = rollout.do_rollout()\n",
    "    rollout_latents = rollout_latents[1:]\n",
    "\n",
    "    optimizer.zero_grad()\n",
    "\n",
    "    mdn_input = rollout_next_hidden.reshape(-1, RSIZE)\n",
    "    mdn_input = torch.tensor(mdn_input, dtype=torch.float32, device=device)\n",
    "    mdn_out = mdn(mdn_input)\n",
    "    mus = mdn_out[:, :5 * LSIZE].reshape(-1, 5, LSIZE)\n",
    "    sigmas = mdn_out[:, 5 * LSIZE: 2*5*LSIZE].reshape(-1, 5, LSIZE)\n",
    "    pi = mdn_out[:, 2*5*LSIZE:2*5*LSIZE+5].reshape(-1, 5)\n",
    "    logpi = F.log_softmax(pi, dim=-2)\n",
    "    reward = mdn_out[:, -2]\n",
    "    done = mdn_out[:, -1]\n",
    "\n",
    "    rollout_latents = torch.tensor(rollout_latents, dtype=torch.float32, device=device)\n",
    "    g_loss = gmm_loss(rollout_latents, mus, sigmas, logpi, reduce=True)\n",
    "\n",
    "    rollout_rewards = torch.tensor(rollout_rewards, dtype=torch.float32, device=device).view(-1, 1)\n",
    "    reward = reward.view(-1, 1)\n",
    "    # print(rollout_rewards.shape)\n",
    "    # print(reward.shape)\n",
    "    r_loss = reward_loss(rollout_rewards, reward, reduce=True)\n",
    "\n",
    "    loss = g_loss + r_loss\n",
    "\n",
    "    loss.backward()\n",
    "    optimizer.step()\n",
    "\n",
    "    losses.append(loss.item())\n",
    "    losses_mdn.append(g_loss.item())\n",
    "    losses_reward.append(r_loss.item())\n",
    "\n",
    "    if i % 10 == 0:\n",
    "        if checkpoint_flag:\n",
    "            print(\"Epoch: {}, Loss: {}, GMM Loss: {}, Reward Loss: {}\".format(i+epoch_num+1, loss.item(), g_loss.item(), r_loss.item()))\n",
    "            checkpoint = {\n",
    "                'mdn': mdn.state_dict(),\n",
    "                'optimizer': optimizer.state_dict(),\n",
    "                'epoch': i+epoch_num+1\n",
    "            }\n",
    "            torch.save(checkpoint, './results/mdn_{}.p'.format(i+epoch_num+1))\n",
    "        else:\n",
    "            print(\"Epoch: {}, Loss: {}, GMM Loss: {}, Reward Loss: {}\".format(i, loss.item(), g_loss.item(), r_loss.item()))\n",
    "            checkpoint = {\n",
    "                'mdn': mdn.state_dict(),\n",
    "                'optimizer': optimizer.state_dict(),\n",
    "                'epoch': i\n",
    "            }\n",
    "            torch.save(checkpoint, './results/mdn_{}.p'.format(i))\n",
    "\n",
    "if checkpoint_flag:\n",
    "    print(\"Epoch: {}, Loss: {}, GMM Loss: {}, Reward Loss: {}\".format(i+epoch_num+1, loss.item(), g_loss.item(), r_loss.item()))\n",
    "    checkpoint = {\n",
    "        'mdn': mdn.state_dict(),\n",
    "        'optimizer': optimizer.state_dict(),\n",
    "        'epoch': i+epoch_num+1\n",
    "    }\n",
    "    torch.save(checkpoint, './results/mdn_{}.p'.format(i+epoch_num+1))\n",
    "else:\n",
    "    print(\"Epoch: {}, Loss: {}, GMM Loss: {}, Reward Loss: {}\".format(i, loss.item(), g_loss.item(), r_loss.item()))\n",
    "    checkpoint = {\n",
    "        'mdn': mdn.state_dict(),\n",
    "        'optimizer': optimizer.state_dict(),\n",
    "        'epoch': i\n",
    "    }\n",
    "    torch.save(checkpoint, './results/mdn_{}.p'.format(i))\n",
    "\n",
    "\n",
    "print(\"Finish\")\n",
    "\n",
    "loss = pd.DataFrame(losses)\n",
    "loss_mdn = pd.DataFrame(losses_mdn)\n",
    "loss_reward = pd.DataFrame(losses_reward)\n",
    "\n",
    "if checkpoint_flag:\n",
    "    loss_old = pd.read_csv('./results/loss.csv')\n",
    "    loss_mdn_old = pd.read_csv('./results/loss_mdn.csv')\n",
    "    loss_reward_old = pd.read_csv('./results/loss_reward.csv')\n",
    "    loss = pd.concat([loss_old, loss])\n",
    "    loss_mdn = pd.concat([loss_mdn_old, loss_mdn])\n",
    "    loss_reward = pd.concat([loss_reward_old, loss_reward])\n",
    "    loss.to_csv('./results/loss.csv')\n",
    "    loss_mdn.to_csv('./results/loss_mdn.csv')\n",
    "    loss_reward.to_csv('./results/loss_reward.csv')\n",
    "else:\n",
    "    loss.to_csv('./results/loss.csv')\n",
    "    loss_mdn.to_csv('./results/loss_mdn.csv')\n",
    "    loss_reward.to_csv('./results/loss_reward.csv')"
   ]
  },
  {
   "cell_type": "code",
   "execution_count": 12,
   "metadata": {},
   "outputs": [
    {
     "data": {
      "text/plain": [
       "[<matplotlib.lines.Line2D at 0x28b6d5277f0>]"
      ]
     },
     "execution_count": 12,
     "metadata": {},
     "output_type": "execute_result"
    },
    {
     "data": {
      "image/png": "[encoded data removed]",
      "text/plain": [
       "<Figure size 640x480 with 1 Axes>"
      ]
     },
     "metadata": {},
     "output_type": "display_data"
    }
   ],
   "source": [
    "import matplotlib.pyplot as plt\n",
    "\n",
    "plt.plot(losses)\n",
    "plt.plot(losses_mdn)\n",
    "plt.plot(losses_reward)"
   ]
  },
  {
   "cell_type": "code",
   "execution_count": null,
   "metadata": {},
   "outputs": [],
   "source": []
  }
 ],
 "metadata": {
  "kernelspec": {
   "display_name": "env_torch_world_models",
   "language": "python",
   "name": "python3"
  },
  "language_info": {
   "codemirror_mode": {
    "name": "ipython",
    "version": 3
   },
   "file_extension": ".py",
   "mimetype": "text/x-python",
   "name": "python",
   "nbconvert_exporter": "python",
   "pygments_lexer": "ipython3",
   "version": "3.10.11"
  },
  "orig_nbformat": 4
 },
 "nbformat": 4,
 "nbformat_minor": 2
}
