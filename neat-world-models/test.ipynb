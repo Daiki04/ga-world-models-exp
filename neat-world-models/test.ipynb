{
 "cells": [
  {
   "cell_type": "code",
   "execution_count": null,
   "metadata": {},
   "outputs": [
    {
     "ename": "",
     "evalue": "",
     "output_type": "error",
     "traceback": [
      "\u001b[1;31m'env_ga_wm' でセルを実行するには、 ipykernel パッケージが必要です。\n",
      "\u001b[1;31mRun the following command to install 'ipykernel' into the Python environment. \n",
      "\u001b[1;31mCommand: 'conda install -n env_ga_wm ipykernel --update-deps --force-reinstall'"
     ]
    }
   ],
   "source": [
    "l1 = [(1, 1), (2, 2), (3, 3)]\n",
    "l2 = [(1, 1), (2, 2), (3, 3)]\n",
    "l3 = [(1, 1), (2, 2), (3, 3)]\n",
    "\n",
    "for (n11, n12), (n21, n22), (n31, n32) in zip(l1, l2, l3):\n",
    "    print(n11, n12, n21, n22, n31, n32)"
   ]
  },
  {
   "cell_type": "code",
   "execution_count": null,
   "metadata": {},
   "outputs": [],
   "source": []
  }
 ],
 "metadata": {
  "kernelspec": {
   "display_name": "env_torch_world_models",
   "language": "python",
   "name": "python3"
  },
  "language_info": {
   "codemirror_mode": {
    "name": "ipython",
    "version": 3
   },
   "file_extension": ".py",
   "mimetype": "text/x-python",
   "name": "python",
   "nbconvert_exporter": "python",
   "pygments_lexer": "ipython3",
   "version": "3.10.13"
  }
 },
 "nbformat": 4,
 "nbformat_minor": 2
}
