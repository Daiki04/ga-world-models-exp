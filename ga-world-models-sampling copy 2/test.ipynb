{
 "cells": [
  {
   "cell_type": "code",
   "execution_count": 1,
   "metadata": {},
   "outputs": [],
   "source": [
    "import torch\n",
    "import torch.nn as nn\n",
    "import torch.nn.functional as F\n",
    "from torch.distributions.normal import Normal\n",
    "from torchvision import transforms\n",
    "import torch.optim as optim\n",
    "import numpy as np\n",
    "import gym\n",
    "import os\n",
    "import pandas as pd\n",
    "import warnings\n",
    "\n",
    "from models import MDRNNCell, VAE, Controller, MDRNN\n",
    "from train_mdn import *\n",
    "\n",
    "warnings.simplefilter(\"ignore\")"
   ]
  },
  {
   "cell_type": "code",
   "execution_count": 2,
   "metadata": {},
   "outputs": [],
   "source": [
    "device = \"cuda\"\n",
    "time_limit = 1000\n",
    "discrete = 0\n",
    "\n",
    "# Load models\n",
    "rollout = RolloutGenerator(device, time_limit, discrete)"
   ]
  },
  {
   "cell_type": "code",
   "execution_count": 3,
   "metadata": {},
   "outputs": [],
   "source": [
    "cumulative, rollout_current_hidden, rollout_next_hidden, rollout_latents, rollout_actions, rollout_rewards, rollout_dones = rollout.do_rollout()"
   ]
  },
  {
   "cell_type": "code",
   "execution_count": 4,
   "metadata": {},
   "outputs": [
    {
     "name": "stdout",
     "output_type": "stream",
     "text": [
      "Cumulative reward:  392.26241134751604\n",
      "Rollout current hidden:  (510, 1, 256)\n",
      "Rollout next hidden:  (510, 1, 256)\n",
      "Rollout latents:  (511, 32)\n",
      "Rollout actions:  (510, 3)\n",
      "Rollout rewards:  (510,)\n",
      "Rollout dones:  (510,)\n"
     ]
    }
   ],
   "source": [
    "print(\"Cumulative reward: \", cumulative)\n",
    "print(\"Rollout current hidden: \", rollout_current_hidden.shape)\n",
    "print(\"Rollout next hidden: \", rollout_next_hidden.shape)\n",
    "print(\"Rollout latents: \", rollout_latents.shape)\n",
    "print(\"Rollout actions: \", rollout_actions.shape)\n",
    "print(\"Rollout rewards: \", rollout_rewards.shape)\n",
    "print(\"Rollout dones: \", rollout_dones.shape)"
   ]
  },
  {
   "cell_type": "code",
   "execution_count": 9,
   "metadata": {},
   "outputs": [
    {
     "data": {
      "text/plain": [
       "'./results/best_1_1_G399.p'"
      ]
     },
     "execution_count": 9,
     "metadata": {},
     "output_type": "execute_result"
    }
   ],
   "source": [
    "dir_path = './results/'\n",
    "files = os.listdir(dir_path)\n",
    "files = [f for f in files if 'best_1_1_G' in f]\n",
    "\n",
    "num = -1\n",
    "idx = 0\n",
    "file = ''\n",
    "for idx, fi in enumerate(files):\n",
    "    Gnum = fi.split('G')[1].split('.')[0]\n",
    "    Gnum = int(Gnum)\n",
    "    if Gnum > num:\n",
    "        file = fi\n",
    "        num = Gnum\n",
    "        \n",
    "file_path = dir_path + file\n",
    "file_path"
   ]
  },
  {
   "cell_type": "code",
   "execution_count": 10,
   "metadata": {},
   "outputs": [
    {
     "data": {
      "text/plain": [
       "MDRNNCell(\n",
       "  (gmm_linear): Linear(in_features=256, out_features=327, bias=True)\n",
       "  (rnn): LSTMCell(35, 256)\n",
       ")"
      ]
     },
     "execution_count": 10,
     "metadata": {},
     "output_type": "execute_result"
    }
   ],
   "source": [
    "ASIZE, LSIZE, RSIZE, RED_SIZE, SIZE = 3, 32, 256, 64, 64\n",
    "\n",
    "s = torch.load(file_path) # ファイルから個体をロード\n",
    "mdrnn = MDRNNCell(LSIZE, ASIZE, RSIZE, 5).to(device)\n",
    "mdrnn.load_state_dict(s['mdrnn'])\n",
    "mdrnn"
   ]
  },
  {
   "cell_type": "code",
   "execution_count": 7,
   "metadata": {},
   "outputs": [],
   "source": [
    "def gmm_loss(batch, mus, sigmas, logpi, reduce=True):\n",
    "    \"\"\"1step MDN-RNNの損失関数\n",
    "\n",
    "    params:\n",
    "        batch: (B, *) バッチ\n",
    "        mus: (B, K, A) 平均\n",
    "        sigmas: (B, K, A) 分散\n",
    "        logpi: (B, K) log(pi)\n",
    "        reduce: bool, default True\n",
    "    \"\"\"\n",
    "    batch = batch.unsqueeze(-2)\n",
    "    sigmas = torch.abs(sigmas)\n",
    "    normal_dist = Normal(mus, sigmas)\n",
    "    g_log_probs = normal_dist.log_prob(batch)\n",
    "    g_log_probs = logpi + torch.sum(g_log_probs, dim=-1)\n",
    "    max_log_probs = torch.max(g_log_probs, dim=-1, keepdim=True)[0]\n",
    "    g_log_probs = g_log_probs - max_log_probs\n",
    "\n",
    "    g_probs = torch.exp(g_log_probs)\n",
    "    probs = torch.sum(g_probs, dim=-1)\n",
    "\n",
    "    log_prob = max_log_probs.squeeze() + torch.log(probs)\n",
    "    if reduce:\n",
    "        return - torch.mean(log_prob)\n",
    "    return - log_prob"
   ]
  },
  {
   "cell_type": "code",
   "execution_count": 7,
   "metadata": {},
   "outputs": [
    {
     "name": "stdout",
     "output_type": "stream",
     "text": [
      "True State:  (510, 32)\n",
      "True Reward:  (510,)\n",
      "Mus:  torch.Size([510, 5, 32])\n",
      "Sigmas:  torch.Size([510, 5, 32])\n",
      "Logpi:  torch.Size([510, 5])\n",
      "Reward:  torch.Size([510])\n",
      "Done:  torch.Size([510])\n"
     ]
    }
   ],
   "source": [
    "# rnnレイヤーの重みを固定\n",
    "for param in mdrnn.rnn.parameters():\n",
    "    param.requires_grad = False\n",
    "\n",
    "mdn = mdrnn.gmm_linear\n",
    "mdn_input = rollout_next_hidden.reshape(-1, RSIZE)\n",
    "mdn_input = torch.tensor(mdn_input, dtype=torch.float32, device=device)\n",
    "mdn_out = mdn(mdn_input)\n",
    "mus = mdn_out[:, :5 * LSIZE].reshape(-1, 5, LSIZE)\n",
    "sigmas = mdn_out[:, 5 * LSIZE: 2*5*LSIZE].reshape(-1, 5, LSIZE)\n",
    "pi = mdn_out[:, 2*5*LSIZE:2*5*LSIZE+5].reshape(-1, 5)\n",
    "logpi = F.log_softmax(pi, dim=-2)\n",
    "reward = mdn_out[:, -2]\n",
    "done = mdn_out[:, -1]\n",
    "\n",
    "print(\"True State: \", rollout_latents[1:].shape)\n",
    "print(\"True Reward: \", rollout_rewards.shape)\n",
    "print(\"Mus: \", mus.shape)\n",
    "print(\"Sigmas: \", sigmas.shape)\n",
    "print(\"Logpi: \", logpi.shape)\n",
    "print(\"Reward: \", reward.shape)\n",
    "print(\"Done: \", done.shape)"
   ]
  },
  {
   "cell_type": "code",
   "execution_count": 9,
   "metadata": {},
   "outputs": [],
   "source": [
    "rollout_latents = torch.tensor(rollout_latents, dtype=torch.float32, device=device)\n",
    "\n",
    "loss = gmm_loss(rollout_latents[1:], mus[:-1], sigmas[:-1], logpi[:-1], reduce=True)"
   ]
  },
  {
   "cell_type": "code",
   "execution_count": 10,
   "metadata": {},
   "outputs": [
    {
     "data": {
      "text/plain": [
       "tensor(2808.7278, device='cuda:0', grad_fn=<NegBackward0>)"
      ]
     },
     "execution_count": 10,
     "metadata": {},
     "output_type": "execute_result"
    }
   ],
   "source": [
    "loss"
   ]
  },
  {
   "cell_type": "code",
   "execution_count": 18,
   "metadata": {},
   "outputs": [],
   "source": [
    "def reward_loss(batch, rewards, reduce=True):\n",
    "    \"\"\"rewardの対数オッズ\n",
    "\n",
    "    params:\n",
    "        batch: (B, *) バッチ\n",
    "        reward: (B, *) reward\n",
    "        reduce: bool, default True\n",
    "    \"\"\"\n",
    "    loss = nn.BCEWithLogitsLoss(reduction='none')\n",
    "    reward_loss = loss(batch, rewards)\n",
    "\n",
    "    if reduce:\n",
    "        return - torch.mean(reward_loss)\n",
    "    return - reward_loss"
   ]
  },
  {
   "cell_type": "code",
   "execution_count": 12,
   "metadata": {},
   "outputs": [
    {
     "name": "stdout",
     "output_type": "stream",
     "text": [
      "Rollout Rewards:  torch.Size([1002, 1])\n",
      "Reward:  torch.Size([1002, 1])\n"
     ]
    }
   ],
   "source": [
    "rollout_rewards = torch.tensor(rollout_rewards, dtype=torch.float32, device=device).view(-1, 1)\n",
    "rollout_rewards.cpu()\n",
    "reward = reward.view(-1, 1)\n",
    "reward.cpu()\n",
    "\n",
    "print(\"Rollout Rewards: \", rollout_rewards.shape)\n",
    "print(\"Reward: \", reward.shape)"
   ]
  },
  {
   "cell_type": "code",
   "execution_count": 19,
   "metadata": {},
   "outputs": [],
   "source": [
    "loss = reward_loss(rollout_rewards, reward, reduce=True)"
   ]
  },
  {
   "cell_type": "code",
   "execution_count": 20,
   "metadata": {},
   "outputs": [
    {
     "data": {
      "text/plain": [
       "tensor(-0.8885, device='cuda:0', grad_fn=<NegBackward0>)"
      ]
     },
     "execution_count": 20,
     "metadata": {},
     "output_type": "execute_result"
    }
   ],
   "source": [
    "loss"
   ]
  },
  {
   "cell_type": "code",
   "execution_count": 2,
   "metadata": {},
   "outputs": [
    {
     "data": {
      "text/plain": [
       "'./results/best_1_1_G399.p'"
      ]
     },
     "execution_count": 2,
     "metadata": {},
     "output_type": "execute_result"
    }
   ],
   "source": [
    "dir_path = './results/'\n",
    "files = os.listdir(dir_path)\n",
    "files = [f for f in files if 'best_1_1_G' in f]\n",
    "\n",
    "num = -1\n",
    "idx = 0\n",
    "file = ''\n",
    "for idx, fi in enumerate(files):\n",
    "    Gnum = fi.split('G')[1].split('.')[0]\n",
    "    Gnum = int(Gnum)\n",
    "    if Gnum > num:\n",
    "        file = fi\n",
    "        num = Gnum\n",
    "        \n",
    "file_path = dir_path + file\n",
    "file_path"
   ]
  },
  {
   "cell_type": "code",
   "execution_count": 3,
   "metadata": {},
   "outputs": [
    {
     "data": {
      "text/plain": [
       "'./results/mdn_9430.p'"
      ]
     },
     "execution_count": 3,
     "metadata": {},
     "output_type": "execute_result"
    }
   ],
   "source": [
    "import os\n",
    "\n",
    "dir_path = './results/'\n",
    "files = os.listdir(dir_path)\n",
    "files = [f for f in files if 'mdn_' in f]\n",
    "\n",
    "num = -1\n",
    "idx = 0\n",
    "checkpoint_file = ''\n",
    "for idx, fi in enumerate(files):\n",
    "    Gnum = fi.split('_')[1].split('.')[0]\n",
    "    Gnum = int(Gnum)\n",
    "    if Gnum > num:\n",
    "        checkpoint_file = fi\n",
    "        num = Gnum\n",
    "        \n",
    "checkpoint_path = dir_path + checkpoint_file\n",
    "checkpoint_path"
   ]
  },
  {
   "cell_type": "code",
   "execution_count": 4,
   "metadata": {},
   "outputs": [],
   "source": [
    "def gmm_loss(batch, mus, sigmas, logpi, reduce=True):\n",
    "    \"\"\"1step MDN-RNNの損失関数\n",
    "\n",
    "    params:\n",
    "        batch: (B, *) バッチ\n",
    "        mus: (B, K, A) 平均\n",
    "        sigmas: (B, K, A) 分散\n",
    "        logpi: (B, K) log(pi)\n",
    "        reduce: bool, default True\n",
    "    \"\"\"\n",
    "    batch = batch.unsqueeze(-2)\n",
    "    normal_dist = Normal(mus, torch.abs(sigmas)+1e-8)\n",
    "    g_log_probs = normal_dist.log_prob(batch)\n",
    "    g_log_probs = logpi + torch.sum(g_log_probs, dim=-1)\n",
    "    max_log_probs = torch.max(g_log_probs, dim=-1, keepdim=True)[0]\n",
    "    g_log_probs = g_log_probs - max_log_probs\n",
    "\n",
    "    g_probs = torch.exp(g_log_probs)\n",
    "    probs = torch.sum(g_probs, dim=-1)\n",
    "\n",
    "    log_prob = max_log_probs.squeeze() + torch.log(probs)\n",
    "    if reduce:\n",
    "        return - torch.mean(log_prob)\n",
    "    return - log_prob"
   ]
  },
  {
   "cell_type": "code",
   "execution_count": 5,
   "metadata": {},
   "outputs": [],
   "source": [
    "def convert_binary(batch):\n",
    "    \"\"\"バイナリに変換\n",
    "\n",
    "    params:\n",
    "        batch: (B, *) バッチ\n",
    "    \"\"\"\n",
    "    binary_batch = torch.where(batch > 0, torch.tensor(1.0), torch.tensor(0.0))\n",
    "\n",
    "    return binary_batch\n",
    "\n",
    "def reward_loss(batch, rewards, reduce=True):\n",
    "    \"\"\"rewardの対数オッズ\n",
    "\n",
    "    params:\n",
    "        batch: (B, *) バッチ\n",
    "        reward: (B, *) reward\n",
    "        reduce: bool, default True\n",
    "    \"\"\"\n",
    "    loss = nn.BCEWithLogitsLoss(reduction='none')\n",
    "    binary_batch = convert_binary(batch)\n",
    "    sigmoid_reward = torch.sigmoid(rewards)\n",
    "    reward_loss = loss(binary_batch, sigmoid_reward)\n",
    "\n",
    "    if reduce:\n",
    "        return torch.mean(reward_loss)\n",
    "    return reward_loss"
   ]
  },
  {
   "cell_type": "code",
   "execution_count": 6,
   "metadata": {},
   "outputs": [
    {
     "name": "stdout",
     "output_type": "stream",
     "text": [
      "Epoch: 9431, Loss: 59.3471794128418, GMM Loss: 58.747623443603516, Reward Loss: 0.5995545983314514\n",
      "Epoch: 9441, Loss: 61.8845100402832, GMM Loss: 61.289405822753906, Reward Loss: 0.5951043963432312\n",
      "Epoch: 9451, Loss: 58.01165008544922, GMM Loss: 57.395286560058594, Reward Loss: 0.6163634061813354\n",
      "Epoch: 9461, Loss: 60.233646392822266, GMM Loss: 59.636295318603516, Reward Loss: 0.597352147102356\n",
      "Epoch: 9471, Loss: 63.55897521972656, GMM Loss: 62.95621871948242, Reward Loss: 0.6027552485466003\n",
      "Epoch: 9481, Loss: 62.41719436645508, GMM Loss: 61.806419372558594, Reward Loss: 0.6107752919197083\n",
      "Epoch: 9491, Loss: 60.11621856689453, GMM Loss: 59.52388381958008, Reward Loss: 0.5923357009887695\n",
      "Epoch: 9501, Loss: 62.16176986694336, GMM Loss: 61.56597900390625, Reward Loss: 0.5957911014556885\n",
      "Epoch: 9511, Loss: 61.44721221923828, GMM Loss: 60.83351516723633, Reward Loss: 0.6136972308158875\n",
      "Epoch: 9521, Loss: 61.95087432861328, GMM Loss: 61.355079650878906, Reward Loss: 0.5957949161529541\n",
      "Epoch: 9531, Loss: 60.80352020263672, GMM Loss: 60.201717376708984, Reward Loss: 0.6018034219741821\n",
      "Epoch: 9541, Loss: 71.18627166748047, GMM Loss: 70.57818603515625, Reward Loss: 0.6080843806266785\n",
      "Epoch: 9551, Loss: 60.58381271362305, GMM Loss: 59.9792366027832, Reward Loss: 0.6045743227005005\n",
      "Epoch: 9561, Loss: 63.42616271972656, GMM Loss: 62.82547378540039, Reward Loss: 0.6006901264190674\n",
      "Epoch: 9571, Loss: 60.89262008666992, GMM Loss: 60.2952766418457, Reward Loss: 0.5973443984985352\n",
      "Epoch: 9581, Loss: 62.45503616333008, GMM Loss: 61.85927963256836, Reward Loss: 0.595757246017456\n",
      "Epoch: 9591, Loss: 63.0267333984375, GMM Loss: 62.43486404418945, Reward Loss: 0.5918675661087036\n",
      "Epoch: 9601, Loss: 61.70335006713867, GMM Loss: 61.11491012573242, Reward Loss: 0.5884389281272888\n",
      "Epoch: 9611, Loss: 62.93593978881836, GMM Loss: 62.351524353027344, Reward Loss: 0.5844165086746216\n",
      "Epoch: 9621, Loss: 60.222023010253906, GMM Loss: 59.617435455322266, Reward Loss: 0.6045888066291809\n",
      "Epoch: 9631, Loss: 56.218833923339844, GMM Loss: 55.59746170043945, Reward Loss: 0.6213738322257996\n",
      "Epoch: 9641, Loss: 59.024497985839844, GMM Loss: 58.40461349487305, Reward Loss: 0.6198838353157043\n",
      "Epoch: 9651, Loss: 62.23720932006836, GMM Loss: 61.64996337890625, Reward Loss: 0.5872451066970825\n",
      "Epoch: 9661, Loss: 59.06855773925781, GMM Loss: 58.46784591674805, Reward Loss: 0.6007131338119507\n",
      "Epoch: 9671, Loss: 61.72420883178711, GMM Loss: 61.12498474121094, Reward Loss: 0.5992234349250793\n",
      "Epoch: 9681, Loss: 59.65789031982422, GMM Loss: 59.06364059448242, Reward Loss: 0.5942500829696655\n",
      "Epoch: 9691, Loss: 63.79607009887695, GMM Loss: 63.19447326660156, Reward Loss: 0.6015950441360474\n",
      "Epoch: 9701, Loss: 59.27785110473633, GMM Loss: 58.67446517944336, Reward Loss: 0.6033876538276672\n",
      "Epoch: 9711, Loss: 63.554161071777344, GMM Loss: 62.95600128173828, Reward Loss: 0.5981595516204834\n",
      "Epoch: 9721, Loss: 62.916114807128906, GMM Loss: 62.31058883666992, Reward Loss: 0.605525016784668\n",
      "Epoch: 9731, Loss: 60.96723937988281, GMM Loss: 60.379066467285156, Reward Loss: 0.5881748199462891\n",
      "Epoch: 9741, Loss: 61.81887435913086, GMM Loss: 61.22426223754883, Reward Loss: 0.5946109890937805\n",
      "Epoch: 9751, Loss: 59.16024398803711, GMM Loss: 58.56940841674805, Reward Loss: 0.5908359289169312\n",
      "Epoch: 9761, Loss: 57.7547492980957, GMM Loss: 57.157630920410156, Reward Loss: 0.5971199870109558\n",
      "Epoch: 9771, Loss: 61.37136459350586, GMM Loss: 60.780338287353516, Reward Loss: 0.5910254716873169\n",
      "Epoch: 9781, Loss: 60.20623016357422, GMM Loss: 59.58641052246094, Reward Loss: 0.6198182702064514\n",
      "Epoch: 9791, Loss: 59.73332977294922, GMM Loss: 59.140602111816406, Reward Loss: 0.5927266478538513\n",
      "Epoch: 9801, Loss: 61.983821868896484, GMM Loss: 61.391456604003906, Reward Loss: 0.5923662781715393\n",
      "Epoch: 9811, Loss: 58.973567962646484, GMM Loss: 58.37263488769531, Reward Loss: 0.6009326577186584\n",
      "Epoch: 9821, Loss: 61.12841796875, GMM Loss: 60.536277770996094, Reward Loss: 0.5921390056610107\n",
      "Epoch: 9831, Loss: 59.06061553955078, GMM Loss: 58.458030700683594, Reward Loss: 0.6025866866111755\n",
      "Epoch: 9841, Loss: 61.28679275512695, GMM Loss: 60.68351745605469, Reward Loss: 0.6032761335372925\n",
      "Epoch: 9851, Loss: 65.32049560546875, GMM Loss: 64.69773864746094, Reward Loss: 0.6227540969848633\n",
      "Epoch: 9861, Loss: 62.132381439208984, GMM Loss: 61.52653884887695, Reward Loss: 0.6058417558670044\n",
      "Epoch: 9871, Loss: 62.09892272949219, GMM Loss: 61.50619888305664, Reward Loss: 0.5927254557609558\n",
      "Epoch: 9881, Loss: 62.76719665527344, GMM Loss: 62.16849136352539, Reward Loss: 0.598703920841217\n",
      "Epoch: 9891, Loss: 63.13080596923828, GMM Loss: 62.52544403076172, Reward Loss: 0.6053609251976013\n",
      "Epoch: 9901, Loss: 58.155025482177734, GMM Loss: 57.548377990722656, Reward Loss: 0.6066471338272095\n",
      "Epoch: 9911, Loss: 57.4476432800293, GMM Loss: 56.852874755859375, Reward Loss: 0.5947688221931458\n",
      "Epoch: 9921, Loss: 58.98576354980469, GMM Loss: 58.388797760009766, Reward Loss: 0.5969665050506592\n",
      "Epoch: 9931, Loss: 59.047210693359375, GMM Loss: 58.45218276977539, Reward Loss: 0.595028281211853\n",
      "Epoch: 9941, Loss: 63.881839752197266, GMM Loss: 63.272804260253906, Reward Loss: 0.6090342402458191\n",
      "Epoch: 9951, Loss: 62.40098190307617, GMM Loss: 61.78184509277344, Reward Loss: 0.6191349625587463\n",
      "Epoch: 9961, Loss: 58.08190155029297, GMM Loss: 57.47462844848633, Reward Loss: 0.6072725653648376\n",
      "Epoch: 9971, Loss: 58.129051208496094, GMM Loss: 57.53535461425781, Reward Loss: 0.5936980843544006\n",
      "Epoch: 9981, Loss: 57.8040885925293, GMM Loss: 57.195518493652344, Reward Loss: 0.608569324016571\n",
      "Epoch: 9991, Loss: 58.87679672241211, GMM Loss: 58.2716178894043, Reward Loss: 0.6051773428916931\n",
      "Epoch: 10001, Loss: 59.77799606323242, GMM Loss: 59.166038513183594, Reward Loss: 0.6119582056999207\n",
      "Epoch: 10011, Loss: 65.34832000732422, GMM Loss: 64.73967742919922, Reward Loss: 0.6086388826370239\n",
      "Epoch: 10021, Loss: 59.250457763671875, GMM Loss: 58.64537811279297, Reward Loss: 0.6050796508789062\n",
      "Epoch: 10031, Loss: 59.17670822143555, GMM Loss: 58.579010009765625, Reward Loss: 0.5976964235305786\n",
      "Epoch: 10041, Loss: 59.77992248535156, GMM Loss: 59.1812629699707, Reward Loss: 0.5986612439155579\n",
      "Epoch: 10051, Loss: 78.09062194824219, GMM Loss: 77.49183654785156, Reward Loss: 0.5987830758094788\n",
      "Epoch: 10061, Loss: 58.70331954956055, GMM Loss: 58.100990295410156, Reward Loss: 0.6023282408714294\n",
      "Epoch: 10071, Loss: 59.311065673828125, GMM Loss: 58.715126037597656, Reward Loss: 0.5959389209747314\n",
      "Epoch: 10081, Loss: 60.33590316772461, GMM Loss: 59.74427795410156, Reward Loss: 0.5916246771812439\n",
      "Epoch: 10091, Loss: 61.60933303833008, GMM Loss: 61.00305938720703, Reward Loss: 0.6062746047973633\n",
      "Epoch: 10101, Loss: 59.17995834350586, GMM Loss: 58.564117431640625, Reward Loss: 0.6158400774002075\n",
      "Epoch: 10111, Loss: 58.13179016113281, GMM Loss: 57.5421142578125, Reward Loss: 0.5896764397621155\n",
      "Epoch: 10121, Loss: 67.33551788330078, GMM Loss: 66.7367172241211, Reward Loss: 0.5988024473190308\n",
      "Epoch: 10131, Loss: 59.86776351928711, GMM Loss: 59.2791862487793, Reward Loss: 0.588577926158905\n",
      "Epoch: 10141, Loss: 59.768280029296875, GMM Loss: 59.1757926940918, Reward Loss: 0.5924879908561707\n",
      "Epoch: 10151, Loss: 62.70160675048828, GMM Loss: 62.10165786743164, Reward Loss: 0.5999473929405212\n",
      "Epoch: 10161, Loss: 56.09960174560547, GMM Loss: 55.489200592041016, Reward Loss: 0.610400915145874\n",
      "Epoch: 10171, Loss: 56.49380874633789, GMM Loss: 55.899009704589844, Reward Loss: 0.5948008894920349\n",
      "Epoch: 10181, Loss: 60.745052337646484, GMM Loss: 60.15346908569336, Reward Loss: 0.5915819406509399\n",
      "Epoch: 10191, Loss: 59.397804260253906, GMM Loss: 58.81114959716797, Reward Loss: 0.5866548418998718\n",
      "Epoch: 10201, Loss: 59.9288330078125, GMM Loss: 59.33269500732422, Reward Loss: 0.5961379408836365\n"
     ]
    },
    {
     "ename": "KeyboardInterrupt",
     "evalue": "",
     "output_type": "error",
     "traceback": [
      "\u001b[1;31m---------------------------------------------------------------------------\u001b[0m",
      "\u001b[1;31mKeyboardInterrupt\u001b[0m                         Traceback (most recent call last)",
      "\u001b[1;32mc:\\Users\\daiki\\Documents\\ga-world-models-exp\\ga-world-models-sampling copy 2\\test.ipynb セル 19\u001b[0m line \u001b[0;36m3\n\u001b[0;32m     <a href='vscode-notebook-cell:/c%3A/Users/daiki/Documents/ga-world-models-exp/ga-world-models-sampling%20copy%202/test.ipynb#X24sZmlsZQ%3D%3D?line=29'>30</a>\u001b[0m     checkpoint_flag \u001b[39m=\u001b[39m \u001b[39mTrue\u001b[39;00m\n\u001b[0;32m     <a href='vscode-notebook-cell:/c%3A/Users/daiki/Documents/ga-world-models-exp/ga-world-models-sampling%20copy%202/test.ipynb#X24sZmlsZQ%3D%3D?line=32'>33</a>\u001b[0m \u001b[39mfor\u001b[39;00m i \u001b[39min\u001b[39;00m \u001b[39mrange\u001b[39m(epoch):\n\u001b[1;32m---> <a href='vscode-notebook-cell:/c%3A/Users/daiki/Documents/ga-world-models-exp/ga-world-models-sampling%20copy%202/test.ipynb#X24sZmlsZQ%3D%3D?line=33'>34</a>\u001b[0m     cumulative, rollout_current_hidden, rollout_next_hidden, rollout_latents, rollout_actions, rollout_rewards, rollout_dones \u001b[39m=\u001b[39m rollout\u001b[39m.\u001b[39;49mdo_rollout()\n\u001b[0;32m     <a href='vscode-notebook-cell:/c%3A/Users/daiki/Documents/ga-world-models-exp/ga-world-models-sampling%20copy%202/test.ipynb#X24sZmlsZQ%3D%3D?line=34'>35</a>\u001b[0m     rollout_latents \u001b[39m=\u001b[39m rollout_latents[\u001b[39m1\u001b[39m:]\n\u001b[0;32m     <a href='vscode-notebook-cell:/c%3A/Users/daiki/Documents/ga-world-models-exp/ga-world-models-sampling%20copy%202/test.ipynb#X24sZmlsZQ%3D%3D?line=36'>37</a>\u001b[0m     optimizer\u001b[39m.\u001b[39mzero_grad()\n",
      "File \u001b[1;32mc:\\Users\\daiki\\Documents\\ga-world-models-exp\\ga-world-models-sampling copy 2\\train_mdn.py:149\u001b[0m, in \u001b[0;36mRolloutGenerator.do_rollout\u001b[1;34m(self, render, early_termination)\u001b[0m\n\u001b[0;32m    146\u001b[0m \u001b[39mwhile\u001b[39;00m \u001b[39mTrue\u001b[39;00m:\n\u001b[0;32m    147\u001b[0m     obs \u001b[39m=\u001b[39m transform(obs)\u001b[39m.\u001b[39munsqueeze(\u001b[39m0\u001b[39m)\u001b[39m.\u001b[39mto(\u001b[39mself\u001b[39m\u001b[39m.\u001b[39mdevice) \u001b[39m# 観測（画像）の前処理：obs(1, 3, 64, 64)\u001b[39;00m\n\u001b[1;32m--> 149\u001b[0m     action, hidden \u001b[39m=\u001b[39m \u001b[39mself\u001b[39;49m\u001b[39m.\u001b[39;49mget_action_and_transition(obs, hidden) \u001b[39m# 行動を起こし、遷移：action(1, ASIZE), hidden(1, RSIZE)\u001b[39;00m\n\u001b[0;32m    150\u001b[0m     \u001b[39mself\u001b[39m\u001b[39m.\u001b[39mrollout_actions\u001b[39m.\u001b[39mappend(action)\n\u001b[0;32m    151\u001b[0m     \u001b[39mself\u001b[39m\u001b[39m.\u001b[39mrollout_hidden\u001b[39m.\u001b[39mappend(hidden[\u001b[39m0\u001b[39m]\u001b[39m.\u001b[39mcpu()\u001b[39m.\u001b[39mnumpy())\n",
      "File \u001b[1;32mc:\\Users\\daiki\\Documents\\ga-world-models-exp\\ga-world-models-sampling copy 2\\train_mdn.py:107\u001b[0m, in \u001b[0;36mRolloutGenerator.get_action_and_transition\u001b[1;34m(self, obs, hidden)\u001b[0m\n\u001b[0;32m    103\u001b[0m     newdata\u001b[39m=\u001b[39mbins[np\u001b[39m.\u001b[39mdigitize(latent_z,bins[\u001b[39m1\u001b[39m:])]\u001b[39m+\u001b[39m\u001b[39m1\u001b[39m \u001b[39m# latent_zをdigitizeし、[0,1]に変換（0以下：0, 0より大きい：1), 1を足すことで[0, 1]に変換\u001b[39;00m\n\u001b[0;32m    105\u001b[0m     latent_z \u001b[39m=\u001b[39m torch\u001b[39m.\u001b[39mfrom_numpy(newdata)\u001b[39m.\u001b[39mfloat() \u001b[39m# latent_zをtorch tensorに変換\u001b[39;00m\n\u001b[1;32m--> 107\u001b[0m \u001b[39mself\u001b[39m\u001b[39m.\u001b[39mrollout_latents\u001b[39m.\u001b[39mappend(latent_z\u001b[39m.\u001b[39;49msqueeze()\u001b[39m.\u001b[39;49mcpu()\u001b[39m.\u001b[39mnumpy()) \u001b[39m# ロールアウトの潜在状態の追加\u001b[39;00m\n\u001b[0;32m    109\u001b[0m action \u001b[39m=\u001b[39m \u001b[39mself\u001b[39m\u001b[39m.\u001b[39mcontroller(latent_z, hidden[\u001b[39m0\u001b[39m] ) \u001b[39m# コントローラーによるアクションの計算\u001b[39;00m\n\u001b[0;32m    111\u001b[0m mus, sigmas, logpi, rs, d, next_hidden \u001b[39m=\u001b[39m \u001b[39mself\u001b[39m\u001b[39m.\u001b[39mmdrnn(action, latent_z, hidden) \u001b[39m# MDRNNによる次の潜在状態と次の隠れ状態の推定\u001b[39;00m\n",
      "\u001b[1;31mKeyboardInterrupt\u001b[0m: "
     ]
    }
   ],
   "source": [
    "epoch = 5000\n",
    "device = \"cuda\"\n",
    "time_limit = 1000\n",
    "discrete = 0\n",
    "epoch_num = 1\n",
    "checkpoint_flag = False\n",
    "ASIZE, LSIZE, RSIZE, RED_SIZE, SIZE = 3, 32, 256, 64, 64\n",
    "\n",
    "s = torch.load(file_path)\n",
    "mdrnn = MDRNNCell(LSIZE, ASIZE, RSIZE, 5).to(device)\n",
    "mdrnn.load_state_dict(s['mdrnn'])\n",
    "\n",
    "for param in mdrnn.rnn.parameters():\n",
    "    param.requires_grad = False\n",
    "\n",
    "mdn = mdrnn.gmm_linear\n",
    "\n",
    "losses = []\n",
    "losses_mdn = []\n",
    "losses_reward = []\n",
    "rollout = RolloutGenerator(device, time_limit, discrete)\n",
    "\n",
    "optimizer = optim.Adam(mdn.parameters(), lr=1e-4)\n",
    "\n",
    "if checkpoint_file != '':\n",
    "    o = torch.load(checkpoint_path)\n",
    "    mdn.load_state_dict(o['mdn'])\n",
    "    optimizer.load_state_dict(o['optimizer'])\n",
    "    epoch_num = o['epoch']\n",
    "    checkpoint_flag = True\n",
    "\n",
    "\n",
    "for i in range(epoch):\n",
    "    cumulative, rollout_current_hidden, rollout_next_hidden, rollout_latents, rollout_actions, rollout_rewards, rollout_dones = rollout.do_rollout()\n",
    "    rollout_latents = rollout_latents[1:]\n",
    "\n",
    "    optimizer.zero_grad()\n",
    "\n",
    "    mdn_input = rollout_next_hidden.reshape(-1, RSIZE)\n",
    "    mdn_input = torch.tensor(mdn_input, dtype=torch.float32, device=device)\n",
    "    mdn_out = mdn(mdn_input)\n",
    "    mus = mdn_out[:, :5 * LSIZE].reshape(-1, 5, LSIZE)\n",
    "    sigmas = mdn_out[:, 5 * LSIZE: 2*5*LSIZE].reshape(-1, 5, LSIZE)\n",
    "    pi = mdn_out[:, 2*5*LSIZE:2*5*LSIZE+5].reshape(-1, 5)\n",
    "    logpi = F.log_softmax(pi, dim=-2)\n",
    "    reward = mdn_out[:, -2]\n",
    "    done = mdn_out[:, -1]\n",
    "\n",
    "    rollout_latents = torch.tensor(rollout_latents, dtype=torch.float32, device=device)\n",
    "    g_loss = gmm_loss(rollout_latents, mus, sigmas, logpi, reduce=True)\n",
    "\n",
    "    rollout_rewards = torch.tensor(rollout_rewards, dtype=torch.float32, device=device).view(-1, 1)\n",
    "    reward = reward.view(-1, 1)\n",
    "    # print(rollout_rewards.shape)\n",
    "    # print(reward.shape)\n",
    "    r_loss = reward_loss(rollout_rewards, reward, reduce=True)\n",
    "\n",
    "    loss = g_loss + r_loss\n",
    "\n",
    "    loss.backward()\n",
    "    optimizer.step()\n",
    "\n",
    "    losses.append(loss.item())\n",
    "    losses_mdn.append(g_loss.item())\n",
    "    losses_reward.append(r_loss.item())\n",
    "\n",
    "    if i % 10 == 0:\n",
    "        if checkpoint_flag:\n",
    "            print(\"Epoch: {}, Loss: {}, GMM Loss: {}, Reward Loss: {}\".format(i+epoch_num+1, loss.item(), g_loss.item(), r_loss.item()))\n",
    "            checkpoint = {\n",
    "                'mdn': mdn.state_dict(),\n",
    "                'optimizer': optimizer.state_dict(),\n",
    "                'epoch': i+epoch_num+1\n",
    "            }\n",
    "            torch.save(checkpoint, './results/mdn_{}.p'.format(i+epoch_num+1))\n",
    "        else:\n",
    "            print(\"Epoch: {}, Loss: {}, GMM Loss: {}, Reward Loss: {}\".format(i, loss.item(), g_loss.item(), r_loss.item()))\n",
    "            checkpoint = {\n",
    "                'mdn': mdn.state_dict(),\n",
    "                'optimizer': optimizer.state_dict(),\n",
    "                'epoch': i\n",
    "            }\n",
    "            torch.save(checkpoint, './results/mdn_{}.p'.format(i))\n",
    "\n",
    "if checkpoint_flag:\n",
    "    print(\"Epoch: {}, Loss: {}, GMM Loss: {}, Reward Loss: {}\".format(i+epoch_num+1, loss.item(), g_loss.item(), r_loss.item()))\n",
    "    checkpoint = {\n",
    "        'mdn': mdn.state_dict(),\n",
    "        'optimizer': optimizer.state_dict(),\n",
    "        'epoch': i+epoch_num+1\n",
    "    }\n",
    "    torch.save(checkpoint, './results/mdn_{}.p'.format(i+epoch_num+1))\n",
    "else:\n",
    "    print(\"Epoch: {}, Loss: {}, GMM Loss: {}, Reward Loss: {}\".format(i, loss.item(), g_loss.item(), r_loss.item()))\n",
    "    checkpoint = {\n",
    "        'mdn': mdn.state_dict(),\n",
    "        'optimizer': optimizer.state_dict(),\n",
    "        'epoch': i\n",
    "    }\n",
    "    torch.save(checkpoint, './results/mdn_{}.p'.format(i))\n",
    "\n",
    "\n",
    "print(\"Finish\")\n",
    "\n",
    "loss = pd.DataFrame(losses)\n",
    "loss_mdn = pd.DataFrame(losses_mdn)\n",
    "loss_reward = pd.DataFrame(losses_reward)\n",
    "\n",
    "if checkpoint_flag:\n",
    "    loss_old = pd.read_csv('./results/loss.csv')\n",
    "    loss_mdn_old = pd.read_csv('./results/loss_mdn.csv')\n",
    "    loss_reward_old = pd.read_csv('./results/loss_reward.csv')\n",
    "    loss = pd.concat([loss_old, loss])\n",
    "    loss_mdn = pd.concat([loss_mdn_old, loss_mdn])\n",
    "    loss_reward = pd.concat([loss_reward_old, loss_reward])\n",
    "    loss.to_csv('./results/loss.csv')\n",
    "    loss_mdn.to_csv('./results/loss_mdn.csv')\n",
    "    loss_reward.to_csv('./results/loss_reward.csv')\n",
    "else:\n",
    "    loss.to_csv('./results/loss.csv')\n",
    "    loss_mdn.to_csv('./results/loss_mdn.csv')\n",
    "    loss_reward.to_csv('./results/loss_reward.csv')"
   ]
  },
  {
   "cell_type": "code",
   "execution_count": 12,
   "metadata": {},
   "outputs": [
    {
     "data": {
      "text/plain": [
       "[<matplotlib.lines.Line2D at 0x28b6d5277f0>]"
      ]
     },
     "execution_count": 12,
     "metadata": {},
     "output_type": "execute_result"
    },
    {
     "data": {
      "image/png": "[encoded data removed]",
      "text/plain": [
       "<Figure size 640x480 with 1 Axes>"
      ]
     },
     "metadata": {},
     "output_type": "display_data"
    }
   ],
   "source": [
    "import matplotlib.pyplot as plt\n",
    "\n",
    "plt.plot(losses)\n",
    "plt.plot(losses_mdn)\n",
    "plt.plot(losses_reward)"
   ]
  },
  {
   "cell_type": "code",
   "execution_count": null,
   "metadata": {},
   "outputs": [],
   "source": []
  }
 ],
 "metadata": {
  "kernelspec": {
   "display_name": "env_torch_world_models",
   "language": "python",
   "name": "python3"
  },
  "language_info": {
   "codemirror_mode": {
    "name": "ipython",
    "version": 3
   },
   "file_extension": ".py",
   "mimetype": "text/x-python",
   "name": "python",
   "nbconvert_exporter": "python",
   "pygments_lexer": "ipython3",
   "version": "3.10.11"
  },
  "orig_nbformat": 4
 },
 "nbformat": 4,
 "nbformat_minor": 2
}
