{
 "cells": [
  {
   "cell_type": "code",
   "execution_count": 2,
   "metadata": {},
   "outputs": [],
   "source": [
    "import torch\n",
    "import torch.nn as nn\n",
    "import torch.nn.functional as F\n",
    "from torch.distributions.normal import Normal\n",
    "from torchvision import transforms\n",
    "import torch.optim as optim\n",
    "import numpy as np\n",
    "import gym\n",
    "import os\n",
    "import pandas as pd\n",
    "import warnings\n",
    "\n",
    "from models import MDRNNCell, VAE, Controller, MDRNN\n",
    "from train_mdn import *\n",
    "\n",
    "warnings.simplefilter(\"ignore\")"
   ]
  },
  {
   "cell_type": "code",
   "execution_count": 2,
   "metadata": {},
   "outputs": [],
   "source": [
    "device = \"cuda\"\n",
    "time_limit = 1000\n",
    "discrete = 0\n",
    "\n",
    "# Load models\n",
    "rollout = RolloutGenerator(device, time_limit, discrete)"
   ]
  },
  {
   "cell_type": "code",
   "execution_count": 3,
   "metadata": {},
   "outputs": [],
   "source": [
    "cumulative, rollout_current_hidden, rollout_next_hidden, rollout_latents, rollout_actions, rollout_rewards, rollout_dones = rollout.do_rollout()"
   ]
  },
  {
   "cell_type": "code",
   "execution_count": 4,
   "metadata": {},
   "outputs": [
    {
     "name": "stdout",
     "output_type": "stream",
     "text": [
      "Cumulative reward:  392.26241134751604\n",
      "Rollout current hidden:  (510, 1, 256)\n",
      "Rollout next hidden:  (510, 1, 256)\n",
      "Rollout latents:  (511, 32)\n",
      "Rollout actions:  (510, 3)\n",
      "Rollout rewards:  (510,)\n",
      "Rollout dones:  (510,)\n"
     ]
    }
   ],
   "source": [
    "print(\"Cumulative reward: \", cumulative)\n",
    "print(\"Rollout current hidden: \", rollout_current_hidden.shape)\n",
    "print(\"Rollout next hidden: \", rollout_next_hidden.shape)\n",
    "print(\"Rollout latents: \", rollout_latents.shape)\n",
    "print(\"Rollout actions: \", rollout_actions.shape)\n",
    "print(\"Rollout rewards: \", rollout_rewards.shape)\n",
    "print(\"Rollout dones: \", rollout_dones.shape)"
   ]
  },
  {
   "cell_type": "code",
   "execution_count": 9,
   "metadata": {},
   "outputs": [
    {
     "data": {
      "text/plain": [
       "'./results/best_1_1_G399.p'"
      ]
     },
     "execution_count": 9,
     "metadata": {},
     "output_type": "execute_result"
    }
   ],
   "source": [
    "dir_path = './results/'\n",
    "files = os.listdir(dir_path)\n",
    "files = [f for f in files if 'best_1_1_G' in f]\n",
    "\n",
    "num = -1\n",
    "idx = 0\n",
    "file = ''\n",
    "for idx, fi in enumerate(files):\n",
    "    Gnum = fi.split('G')[1].split('.')[0]\n",
    "    Gnum = int(Gnum)\n",
    "    if Gnum > num:\n",
    "        file = fi\n",
    "        num = Gnum\n",
    "        \n",
    "file_path = dir_path + file\n",
    "file_path"
   ]
  },
  {
   "cell_type": "code",
   "execution_count": 10,
   "metadata": {},
   "outputs": [
    {
     "data": {
      "text/plain": [
       "MDRNNCell(\n",
       "  (gmm_linear): Linear(in_features=256, out_features=327, bias=True)\n",
       "  (rnn): LSTMCell(35, 256)\n",
       ")"
      ]
     },
     "execution_count": 10,
     "metadata": {},
     "output_type": "execute_result"
    }
   ],
   "source": [
    "ASIZE, LSIZE, RSIZE, RED_SIZE, SIZE = 3, 32, 256, 64, 64\n",
    "\n",
    "s = torch.load(file_path) # ファイルから個体をロード\n",
    "mdrnn = MDRNNCell(LSIZE, ASIZE, RSIZE, 5).to(device)\n",
    "mdrnn.load_state_dict(s['mdrnn'])\n",
    "mdrnn"
   ]
  },
  {
   "cell_type": "code",
   "execution_count": 7,
   "metadata": {},
   "outputs": [],
   "source": [
    "def gmm_loss(batch, mus, sigmas, logpi, reduce=True):\n",
    "    \"\"\"1step MDN-RNNの損失関数\n",
    "\n",
    "    params:\n",
    "        batch: (B, *) バッチ\n",
    "        mus: (B, K, A) 平均\n",
    "        sigmas: (B, K, A) 分散\n",
    "        logpi: (B, K) log(pi)\n",
    "        reduce: bool, default True\n",
    "    \"\"\"\n",
    "    batch = batch.unsqueeze(-2)\n",
    "    sigmas = torch.abs(sigmas)\n",
    "    normal_dist = Normal(mus, sigmas)\n",
    "    g_log_probs = normal_dist.log_prob(batch)\n",
    "    g_log_probs = logpi + torch.sum(g_log_probs, dim=-1)\n",
    "    max_log_probs = torch.max(g_log_probs, dim=-1, keepdim=True)[0]\n",
    "    g_log_probs = g_log_probs - max_log_probs\n",
    "\n",
    "    g_probs = torch.exp(g_log_probs)\n",
    "    probs = torch.sum(g_probs, dim=-1)\n",
    "\n",
    "    log_prob = max_log_probs.squeeze() + torch.log(probs)\n",
    "    if reduce:\n",
    "        return - torch.mean(log_prob)\n",
    "    return - log_prob"
   ]
  },
  {
   "cell_type": "code",
   "execution_count": 7,
   "metadata": {},
   "outputs": [
    {
     "name": "stdout",
     "output_type": "stream",
     "text": [
      "True State:  (510, 32)\n",
      "True Reward:  (510,)\n",
      "Mus:  torch.Size([510, 5, 32])\n",
      "Sigmas:  torch.Size([510, 5, 32])\n",
      "Logpi:  torch.Size([510, 5])\n",
      "Reward:  torch.Size([510])\n",
      "Done:  torch.Size([510])\n"
     ]
    }
   ],
   "source": [
    "# rnnレイヤーの重みを固定\n",
    "for param in mdrnn.rnn.parameters():\n",
    "    param.requires_grad = False\n",
    "\n",
    "mdn = mdrnn.gmm_linear\n",
    "mdn_input = rollout_next_hidden.reshape(-1, RSIZE)\n",
    "mdn_input = torch.tensor(mdn_input, dtype=torch.float32, device=device)\n",
    "mdn_out = mdn(mdn_input)\n",
    "mus = mdn_out[:, :5 * LSIZE].reshape(-1, 5, LSIZE)\n",
    "sigmas = mdn_out[:, 5 * LSIZE: 2*5*LSIZE].reshape(-1, 5, LSIZE)\n",
    "pi = mdn_out[:, 2*5*LSIZE:2*5*LSIZE+5].reshape(-1, 5)\n",
    "logpi = F.log_softmax(pi, dim=-2)\n",
    "reward = mdn_out[:, -2]\n",
    "done = mdn_out[:, -1]\n",
    "\n",
    "print(\"True State: \", rollout_latents[1:].shape)\n",
    "print(\"True Reward: \", rollout_rewards.shape)\n",
    "print(\"Mus: \", mus.shape)\n",
    "print(\"Sigmas: \", sigmas.shape)\n",
    "print(\"Logpi: \", logpi.shape)\n",
    "print(\"Reward: \", reward.shape)\n",
    "print(\"Done: \", done.shape)"
   ]
  },
  {
   "cell_type": "code",
   "execution_count": 9,
   "metadata": {},
   "outputs": [],
   "source": [
    "rollout_latents = torch.tensor(rollout_latents, dtype=torch.float32, device=device)\n",
    "\n",
    "loss = gmm_loss(rollout_latents[1:], mus[:-1], sigmas[:-1], logpi[:-1], reduce=True)"
   ]
  },
  {
   "cell_type": "code",
   "execution_count": 10,
   "metadata": {},
   "outputs": [
    {
     "data": {
      "text/plain": [
       "tensor(2808.7278, device='cuda:0', grad_fn=<NegBackward0>)"
      ]
     },
     "execution_count": 10,
     "metadata": {},
     "output_type": "execute_result"
    }
   ],
   "source": [
    "loss"
   ]
  },
  {
   "cell_type": "code",
   "execution_count": 18,
   "metadata": {},
   "outputs": [],
   "source": [
    "def reward_loss(batch, rewards, reduce=True):\n",
    "    \"\"\"rewardの対数オッズ\n",
    "\n",
    "    params:\n",
    "        batch: (B, *) バッチ\n",
    "        reward: (B, *) reward\n",
    "        reduce: bool, default True\n",
    "    \"\"\"\n",
    "    loss = nn.BCEWithLogitsLoss(reduction='none')\n",
    "    reward_loss = loss(batch, rewards)\n",
    "\n",
    "    if reduce:\n",
    "        return - torch.mean(reward_loss)\n",
    "    return - reward_loss"
   ]
  },
  {
   "cell_type": "code",
   "execution_count": 12,
   "metadata": {},
   "outputs": [
    {
     "name": "stdout",
     "output_type": "stream",
     "text": [
      "Rollout Rewards:  torch.Size([1002, 1])\n",
      "Reward:  torch.Size([1002, 1])\n"
     ]
    }
   ],
   "source": [
    "rollout_rewards = torch.tensor(rollout_rewards, dtype=torch.float32, device=device).view(-1, 1)\n",
    "rollout_rewards.cpu()\n",
    "reward = reward.view(-1, 1)\n",
    "reward.cpu()\n",
    "\n",
    "print(\"Rollout Rewards: \", rollout_rewards.shape)\n",
    "print(\"Reward: \", reward.shape)"
   ]
  },
  {
   "cell_type": "code",
   "execution_count": 19,
   "metadata": {},
   "outputs": [],
   "source": [
    "loss = reward_loss(rollout_rewards, reward, reduce=True)"
   ]
  },
  {
   "cell_type": "code",
   "execution_count": 20,
   "metadata": {},
   "outputs": [
    {
     "data": {
      "text/plain": [
       "tensor(-0.8885, device='cuda:0', grad_fn=<NegBackward0>)"
      ]
     },
     "execution_count": 20,
     "metadata": {},
     "output_type": "execute_result"
    }
   ],
   "source": [
    "loss"
   ]
  },
  {
   "cell_type": "code",
   "execution_count": 3,
   "metadata": {},
   "outputs": [
    {
     "data": {
      "text/plain": [
       "'./results/best_1_1_G399.p'"
      ]
     },
     "execution_count": 3,
     "metadata": {},
     "output_type": "execute_result"
    }
   ],
   "source": [
    "dir_path = './results/'\n",
    "files = os.listdir(dir_path)\n",
    "files = [f for f in files if 'best_1_1_G' in f]\n",
    "\n",
    "num = -1\n",
    "idx = 0\n",
    "file = ''\n",
    "for idx, fi in enumerate(files):\n",
    "    Gnum = fi.split('G')[1].split('.')[0]\n",
    "    Gnum = int(Gnum)\n",
    "    if Gnum > num:\n",
    "        file = fi\n",
    "        num = Gnum\n",
    "        \n",
    "file_path = dir_path + file\n",
    "file_path"
   ]
  },
  {
   "cell_type": "code",
   "execution_count": 4,
   "metadata": {},
   "outputs": [
    {
     "data": {
      "text/plain": [
       "'./results/'"
      ]
     },
     "execution_count": 4,
     "metadata": {},
     "output_type": "execute_result"
    }
   ],
   "source": [
    "import os\n",
    "\n",
    "dir_path = './results/'\n",
    "files = os.listdir(dir_path)\n",
    "files = [f for f in files if 'mdn_' in f]\n",
    "\n",
    "num = -1\n",
    "idx = 0\n",
    "checkpoint_file = ''\n",
    "for idx, fi in enumerate(files):\n",
    "    Gnum = fi.split('_')[1].split('.')[0]\n",
    "    Gnum = int(Gnum)\n",
    "    if Gnum > num:\n",
    "        checkpoint_file = fi\n",
    "        num = Gnum\n",
    "        \n",
    "checkpoint_path = dir_path + checkpoint_file\n",
    "checkpoint_path"
   ]
  },
  {
   "cell_type": "code",
   "execution_count": 5,
   "metadata": {},
   "outputs": [],
   "source": [
    "def gmm_loss(batch, mus, sigmas, logpi, reduce=True):\n",
    "    \"\"\"1step MDN-RNNの損失関数\n",
    "\n",
    "    params:\n",
    "        batch: (B, *) バッチ\n",
    "        mus: (B, K, A) 平均\n",
    "        sigmas: (B, K, A) 分散\n",
    "        logpi: (B, K) log(pi)\n",
    "        reduce: bool, default True\n",
    "    \"\"\"\n",
    "    batch = batch.unsqueeze(-2)\n",
    "    normal_dist = Normal(mus, torch.abs(sigmas)+1e-8)\n",
    "    g_log_probs = normal_dist.log_prob(batch)\n",
    "    g_log_probs = logpi + torch.sum(g_log_probs, dim=-1)\n",
    "    max_log_probs = torch.max(g_log_probs, dim=-1, keepdim=True)[0]\n",
    "    g_log_probs = g_log_probs - max_log_probs\n",
    "\n",
    "    g_probs = torch.exp(g_log_probs)\n",
    "    probs = torch.sum(g_probs, dim=-1)\n",
    "\n",
    "    log_prob = max_log_probs.squeeze() + torch.log(probs)\n",
    "    if reduce:\n",
    "        return - torch.mean(log_prob)\n",
    "    return - log_prob"
   ]
  },
  {
   "cell_type": "code",
   "execution_count": null,
   "metadata": {},
   "outputs": [],
   "source": [
    "def convert_binary(batch):\n",
    "    \"\"\"バイナリに変換\n",
    "\n",
    "    params:\n",
    "        batch: (B, *) バッチ\n",
    "    \"\"\"\n",
    "    binary_batch = torch.where(batch > 0, torch.tensor(1.0), torch.tensor(0.0))\n",
    "\n",
    "    return binary_batch\n",
    "\n",
    "def reward_loss(batch, rewards, reduce=True, device='cuda'):\n",
    "    \"\"\"rewardの対数オッズ\n",
    "\n",
    "    params:\n",
    "        batch: (B, *) バッチ\n",
    "        reward: (B, *) reward\n",
    "        reduce: bool, default True\n",
    "    \"\"\"\n",
    "    weight = torch.tensor([100.0], dtype=torch.float32, device=device)\n",
    "    weight = weight.view(-1, 1)\n",
    "    loss = nn.BCEWithLogitsLoss(reduction='none', pos_weight=weight)\n",
    "    binary_batch = convert_binary(batch)\n",
    "    sigmoid_reward = torch.sigmoid(rewards)\n",
    "    reward_loss = loss(sigmoid_reward, binary_batch)\n",
    "\n",
    "    if reduce:\n",
    "        return torch.mean(reward_loss)\n",
    "    return reward_loss"
   ]
  },
  {
   "cell_type": "code",
   "execution_count": 8,
   "metadata": {},
   "outputs": [
    {
     "name": "stderr",
     "output_type": "stream",
     "text": [
      "100%|██████████| 2000/2000 [2:49:23<00:00,  5.08s/it]  \n"
     ]
    }
   ],
   "source": [
    "# device = \"cuda\"\n",
    "# time_limit = 2000\n",
    "# discrete = 0\n",
    "# epoch = 2000\n",
    "# rollout = RolloutGenerator(device, time_limit, discrete)\n",
    "# rollout.get_rollout(epoch)"
   ]
  },
  {
   "cell_type": "code",
   "execution_count": null,
   "metadata": {
    "scrolled": true
   },
   "outputs": [
    {
     "name": "stdout",
     "output_type": "stream",
     "text": [
      "Epoch: 0, Loss: 2887.525146484375, GMM Loss: 2783.984130859375, Reward Loss: 1.0354100465774536\n",
      "Epoch: 10, Loss: 2110.102783203125, GMM Loss: 2014.8865966796875, Reward Loss: 0.9521612524986267\n",
      "Epoch: 20, Loss: 1750.6165771484375, GMM Loss: 1662.0565185546875, Reward Loss: 0.8856009244918823\n",
      "Epoch: 30, Loss: 1492.0123291015625, GMM Loss: 1400.5894775390625, Reward Loss: 0.9142279624938965\n",
      "Epoch: 40, Loss: 1443.9949951171875, GMM Loss: 1356.789306640625, Reward Loss: 0.872056782245636\n",
      "Epoch: 50, Loss: 1426.66796875, GMM Loss: 1337.00341796875, Reward Loss: 0.8966455459594727\n",
      "Epoch: 60, Loss: 1378.3914794921875, GMM Loss: 1291.23779296875, Reward Loss: 0.8715366125106812\n",
      "Epoch: 70, Loss: 1185.165771484375, GMM Loss: 1105.912109375, Reward Loss: 0.7925367951393127\n",
      "Epoch: 80, Loss: 1249.102783203125, GMM Loss: 1166.3153076171875, Reward Loss: 0.8278747200965881\n",
      "Epoch: 90, Loss: 1185.3365478515625, GMM Loss: 1104.2421875, Reward Loss: 0.8109437227249146\n",
      "Epoch: 100, Loss: 1056.295166015625, GMM Loss: 978.142333984375, Reward Loss: 0.7815283536911011\n",
      "Epoch: 110, Loss: 1039.485107421875, GMM Loss: 962.7955932617188, Reward Loss: 0.7668954730033875\n",
      "Epoch: 120, Loss: 1082.514404296875, GMM Loss: 1007.605224609375, Reward Loss: 0.7490921020507812\n",
      "Epoch: 130, Loss: 983.73779296875, GMM Loss: 908.8486328125, Reward Loss: 0.748891294002533\n",
      "Epoch: 140, Loss: 928.1683959960938, GMM Loss: 853.5851440429688, Reward Loss: 0.7458325028419495\n",
      "Epoch: 150, Loss: 945.211181640625, GMM Loss: 870.3235473632812, Reward Loss: 0.74887615442276\n",
      "Epoch: 160, Loss: 908.6744384765625, GMM Loss: 834.4019775390625, Reward Loss: 0.7427247166633606\n",
      "Epoch: 170, Loss: 984.4639282226562, GMM Loss: 909.4856567382812, Reward Loss: 0.7497825622558594\n",
      "Epoch: 180, Loss: 877.299560546875, GMM Loss: 804.5933227539062, Reward Loss: 0.7270620465278625\n",
      "Epoch: 190, Loss: 800.3309936523438, GMM Loss: 728.2415771484375, Reward Loss: 0.7208943963050842\n",
      "Epoch: 200, Loss: 845.5900268554688, GMM Loss: 773.5001831054688, Reward Loss: 0.7208983302116394\n",
      "Epoch: 210, Loss: 855.1728515625, GMM Loss: 782.6903076171875, Reward Loss: 0.7248255610466003\n",
      "Epoch: 220, Loss: 937.5313720703125, GMM Loss: 865.1621704101562, Reward Loss: 0.7236922979354858\n",
      "Epoch: 230, Loss: 884.4900512695312, GMM Loss: 812.4463500976562, Reward Loss: 0.7204368114471436\n",
      "Epoch: 240, Loss: 822.4732666015625, GMM Loss: 750.8878784179688, Reward Loss: 0.7158541679382324\n",
      "Epoch: 250, Loss: 798.0814819335938, GMM Loss: 726.9212646484375, Reward Loss: 0.7116021513938904\n",
      "Epoch: 260, Loss: 852.3702392578125, GMM Loss: 779.6635131835938, Reward Loss: 0.7270670533180237\n",
      "Epoch: 270, Loss: 823.3990478515625, GMM Loss: 751.8985595703125, Reward Loss: 0.7150046825408936\n",
      "Epoch: 280, Loss: 778.9257202148438, GMM Loss: 707.8927001953125, Reward Loss: 0.7103304266929626\n",
      "Epoch: 290, Loss: 798.271484375, GMM Loss: 725.9810180664062, Reward Loss: 0.7229046821594238\n",
      "Epoch: 300, Loss: 782.01953125, GMM Loss: 709.9428100585938, Reward Loss: 0.7207672595977783\n",
      "Epoch: 310, Loss: 768.5997314453125, GMM Loss: 696.5977783203125, Reward Loss: 0.7200194597244263\n",
      "Epoch: 320, Loss: 764.95361328125, GMM Loss: 693.0868530273438, Reward Loss: 0.7186673283576965\n",
      "Epoch: 330, Loss: 735.8621826171875, GMM Loss: 664.53466796875, Reward Loss: 0.7132749557495117\n",
      "Epoch: 340, Loss: 754.6598510742188, GMM Loss: 683.9713134765625, Reward Loss: 0.7068852782249451\n",
      "Epoch: 350, Loss: 852.4247436523438, GMM Loss: 780.4495849609375, Reward Loss: 0.7197515368461609\n",
      "Epoch: 360, Loss: 724.025634765625, GMM Loss: 653.5123901367188, Reward Loss: 0.7051321268081665\n",
      "Epoch: 370, Loss: 817.806396484375, GMM Loss: 745.9561157226562, Reward Loss: 0.7185025215148926\n",
      "Epoch: 380, Loss: 679.08544921875, GMM Loss: 608.422607421875, Reward Loss: 0.7066284418106079\n",
      "Epoch: 390, Loss: 804.7490234375, GMM Loss: 733.0343627929688, Reward Loss: 0.7171463966369629\n",
      "Epoch: 400, Loss: 720.7803955078125, GMM Loss: 650.3785400390625, Reward Loss: 0.7040188908576965\n",
      "Epoch: 410, Loss: 692.226806640625, GMM Loss: 621.6013793945312, Reward Loss: 0.7062543034553528\n",
      "Epoch: 420, Loss: 693.650146484375, GMM Loss: 623.1759033203125, Reward Loss: 0.7047421336174011\n",
      "Epoch: 430, Loss: 815.08642578125, GMM Loss: 743.6879272460938, Reward Loss: 0.7139853239059448\n",
      "Epoch: 440, Loss: 772.2435302734375, GMM Loss: 700.8053588867188, Reward Loss: 0.7143819332122803\n",
      "Epoch: 450, Loss: 676.0859985351562, GMM Loss: 605.5928955078125, Reward Loss: 0.7049310803413391\n",
      "Epoch: 460, Loss: 673.4332885742188, GMM Loss: 603.2666625976562, Reward Loss: 0.7016662955284119\n",
      "Epoch: 470, Loss: 638.5689086914062, GMM Loss: 568.2557983398438, Reward Loss: 0.7031312584877014\n",
      "Epoch: 480, Loss: 616.369140625, GMM Loss: 546.3622436523438, Reward Loss: 0.7000690698623657\n",
      "Epoch: 490, Loss: 677.0916137695312, GMM Loss: 606.8443603515625, Reward Loss: 0.7024725675582886\n",
      "Epoch: 500, Loss: 685.6800537109375, GMM Loss: 615.4496459960938, Reward Loss: 0.7023043036460876\n",
      "Epoch: 510, Loss: 652.7637939453125, GMM Loss: 582.7348022460938, Reward Loss: 0.7002902030944824\n",
      "Epoch: 520, Loss: 655.1876831054688, GMM Loss: 585.1478271484375, Reward Loss: 0.7003986239433289\n",
      "Epoch: 530, Loss: 638.4885864257812, GMM Loss: 568.4027099609375, Reward Loss: 0.7008587121963501\n",
      "Epoch: 540, Loss: 693.399658203125, GMM Loss: 623.0572509765625, Reward Loss: 0.703424334526062\n",
      "Epoch: 550, Loss: 616.6802368164062, GMM Loss: 546.5606689453125, Reward Loss: 0.7011957168579102\n",
      "Epoch: 560, Loss: 607.9411010742188, GMM Loss: 537.7232055664062, Reward Loss: 0.702178955078125\n",
      "Epoch: 570, Loss: 633.9580078125, GMM Loss: 563.4004516601562, Reward Loss: 0.705575704574585\n",
      "Epoch: 580, Loss: 620.0635986328125, GMM Loss: 549.904296875, Reward Loss: 0.7015928030014038\n",
      "Epoch: 590, Loss: 601.0372924804688, GMM Loss: 530.9699096679688, Reward Loss: 0.7006736993789673\n",
      "Epoch: 600, Loss: 568.6407470703125, GMM Loss: 498.6911926269531, Reward Loss: 0.6994953751564026\n",
      "Epoch: 610, Loss: 586.7837524414062, GMM Loss: 516.6553955078125, Reward Loss: 0.7012838125228882\n",
      "Epoch: 620, Loss: 594.1719970703125, GMM Loss: 524.0062255859375, Reward Loss: 0.7016574740409851\n",
      "Epoch: 630, Loss: 589.1710815429688, GMM Loss: 518.9401245117188, Reward Loss: 0.7023094892501831\n",
      "Epoch: 640, Loss: 623.6454467773438, GMM Loss: 553.6527709960938, Reward Loss: 0.6999266147613525\n",
      "Epoch: 650, Loss: 568.306884765625, GMM Loss: 498.269775390625, Reward Loss: 0.7003713846206665\n",
      "Epoch: 660, Loss: 576.3441162109375, GMM Loss: 506.2885437011719, Reward Loss: 0.7005556225776672\n",
      "Epoch: 670, Loss: 566.8380126953125, GMM Loss: 496.52630615234375, Reward Loss: 0.7031172513961792\n",
      "Epoch: 680, Loss: 560.4275512695312, GMM Loss: 490.6583557128906, Reward Loss: 0.6976918578147888\n",
      "Epoch: 690, Loss: 555.190673828125, GMM Loss: 484.9290771484375, Reward Loss: 0.7026161551475525\n",
      "Epoch: 700, Loss: 576.9576416015625, GMM Loss: 506.6927795410156, Reward Loss: 0.7026482820510864\n",
      "Epoch: 710, Loss: 551.6063232421875, GMM Loss: 481.6725769042969, Reward Loss: 0.6993374228477478\n",
      "Epoch: 720, Loss: 516.18017578125, GMM Loss: 446.3645324707031, Reward Loss: 0.698156476020813\n",
      "Epoch: 730, Loss: 544.7499389648438, GMM Loss: 474.81561279296875, Reward Loss: 0.699343204498291\n",
      "Epoch: 740, Loss: 533.620849609375, GMM Loss: 463.4331359863281, Reward Loss: 0.7018768787384033\n",
      "Epoch: 750, Loss: 554.055419921875, GMM Loss: 483.8785095214844, Reward Loss: 0.7017688155174255\n",
      "Epoch: 760, Loss: 536.3529052734375, GMM Loss: 466.5216979980469, Reward Loss: 0.6983121037483215\n",
      "Epoch: 770, Loss: 520.2778930664062, GMM Loss: 450.45489501953125, Reward Loss: 0.6982300877571106\n",
      "Epoch: 780, Loss: 539.1707763671875, GMM Loss: 469.0681457519531, Reward Loss: 0.7010266184806824\n",
      "Epoch: 790, Loss: 525.1036376953125, GMM Loss: 454.9886474609375, Reward Loss: 0.7011498212814331\n",
      "Epoch: 800, Loss: 559.8901977539062, GMM Loss: 490.09381103515625, Reward Loss: 0.6979640126228333\n",
      "Epoch: 810, Loss: 524.6693725585938, GMM Loss: 454.5944519042969, Reward Loss: 0.7007490396499634\n",
      "Epoch: 820, Loss: 518.4124755859375, GMM Loss: 448.6429138183594, Reward Loss: 0.6976956725120544\n",
      "Epoch: 830, Loss: 499.4165954589844, GMM Loss: 429.3778076171875, Reward Loss: 0.7003877758979797\n",
      "Epoch: 840, Loss: 497.35662841796875, GMM Loss: 427.5673522949219, Reward Loss: 0.6978926658630371\n",
      "Epoch: 850, Loss: 556.2861938476562, GMM Loss: 486.4800109863281, Reward Loss: 0.6980617046356201\n",
      "Epoch: 860, Loss: 434.2812805175781, GMM Loss: 364.6802062988281, Reward Loss: 0.6960108280181885\n",
      "Epoch: 870, Loss: 568.2468872070312, GMM Loss: 498.5086364746094, Reward Loss: 0.6973827481269836\n",
      "Epoch: 880, Loss: 514.325927734375, GMM Loss: 444.65386962890625, Reward Loss: 0.6967206001281738\n",
      "Epoch: 890, Loss: 512.688720703125, GMM Loss: 442.965576171875, Reward Loss: 0.6972312331199646\n",
      "Epoch: 900, Loss: 527.4759521484375, GMM Loss: 457.7528991699219, Reward Loss: 0.6972305774688721\n",
      "Epoch: 910, Loss: 443.5479736328125, GMM Loss: 373.9433898925781, Reward Loss: 0.696045994758606\n",
      "Epoch: 920, Loss: 480.6932067871094, GMM Loss: 410.7439270019531, Reward Loss: 0.6994927525520325\n",
      "Epoch: 930, Loss: 490.11370849609375, GMM Loss: 420.5000915527344, Reward Loss: 0.6961361169815063\n",
      "Epoch: 940, Loss: 496.52459716796875, GMM Loss: 426.73480224609375, Reward Loss: 0.6978980302810669\n",
      "Epoch: 950, Loss: 480.9078674316406, GMM Loss: 411.12384033203125, Reward Loss: 0.6978402733802795\n",
      "Epoch: 960, Loss: 517.3975219726562, GMM Loss: 447.67413330078125, Reward Loss: 0.6972340941429138\n",
      "Epoch: 970, Loss: 457.14996337890625, GMM Loss: 387.4762268066406, Reward Loss: 0.6967373490333557\n",
      "Epoch: 980, Loss: 483.7696228027344, GMM Loss: 413.8667907714844, Reward Loss: 0.6990283727645874\n",
      "Epoch: 990, Loss: 606.3797607421875, GMM Loss: 536.34228515625, Reward Loss: 0.7003744840621948\n",
      "Epoch: 1000, Loss: 454.2153015136719, GMM Loss: 384.5627136230469, Reward Loss: 0.6965258717536926\n",
      "Epoch: 1010, Loss: 453.3861999511719, GMM Loss: 383.7401123046875, Reward Loss: 0.6964607834815979\n",
      "Epoch: 1020, Loss: 471.8033752441406, GMM Loss: 401.9594421386719, Reward Loss: 0.6984392404556274\n",
      "Epoch: 1030, Loss: 485.08953857421875, GMM Loss: 415.4576721191406, Reward Loss: 0.6963186860084534\n",
      "Epoch: 1040, Loss: 469.45751953125, GMM Loss: 399.864013671875, Reward Loss: 0.6959348917007446\n",
      "Epoch: 1050, Loss: 465.77496337890625, GMM Loss: 395.9373779296875, Reward Loss: 0.6983757615089417\n",
      "Epoch: 1060, Loss: 434.7584228515625, GMM Loss: 365.220703125, Reward Loss: 0.6953770518302917\n",
      "Epoch: 1070, Loss: 460.3555603027344, GMM Loss: 390.5516357421875, Reward Loss: 0.698039174079895\n",
      "Epoch: 1080, Loss: 552.4431762695312, GMM Loss: 482.45233154296875, Reward Loss: 0.699908435344696\n",
      "Epoch: 1090, Loss: 462.09210205078125, GMM Loss: 392.4806213378906, Reward Loss: 0.6961146593093872\n",
      "Epoch: 1100, Loss: 487.4363708496094, GMM Loss: 417.8825988769531, Reward Loss: 0.6955376863479614\n",
      "Epoch: 1110, Loss: 457.6861572265625, GMM Loss: 387.87603759765625, Reward Loss: 0.6981011033058167\n",
      "Epoch: 1120, Loss: 446.5589294433594, GMM Loss: 376.9269104003906, Reward Loss: 0.6963201761245728\n",
      "Epoch: 1130, Loss: 455.04290771484375, GMM Loss: 385.43756103515625, Reward Loss: 0.6960536241531372\n",
      "Epoch: 1140, Loss: 457.8072509765625, GMM Loss: 388.150146484375, Reward Loss: 0.6965709328651428\n",
      "Epoch: 1150, Loss: 446.56585693359375, GMM Loss: 376.9925231933594, Reward Loss: 0.6957334280014038\n",
      "Epoch: 1160, Loss: 449.40618896484375, GMM Loss: 379.6730651855469, Reward Loss: 0.697331428527832\n",
      "Epoch: 1170, Loss: 445.2707214355469, GMM Loss: 375.5103759765625, Reward Loss: 0.6976033449172974\n",
      "Epoch: 1180, Loss: 430.85498046875, GMM Loss: 361.1008605957031, Reward Loss: 0.6975412368774414\n",
      "Epoch: 1190, Loss: 399.7425537109375, GMM Loss: 330.2004089355469, Reward Loss: 0.6954214572906494\n",
      "Epoch: 1200, Loss: 454.75213623046875, GMM Loss: 385.15478515625, Reward Loss: 0.6959735155105591\n",
      "Epoch: 1210, Loss: 495.59515380859375, GMM Loss: 426.04248046875, Reward Loss: 0.695526659488678\n",
      "Epoch: 1220, Loss: 430.3652038574219, GMM Loss: 360.6281433105469, Reward Loss: 0.6973705887794495\n",
      "Epoch: 1230, Loss: 398.9958801269531, GMM Loss: 329.5049743652344, Reward Loss: 0.6949089765548706\n",
      "Epoch: 1240, Loss: 410.37786865234375, GMM Loss: 340.8875427246094, Reward Loss: 0.6949031949043274\n",
      "Epoch: 1250, Loss: 431.4788513183594, GMM Loss: 361.7588195800781, Reward Loss: 0.6972004175186157\n",
      "Epoch: 1260, Loss: 419.30645751953125, GMM Loss: 349.5923767089844, Reward Loss: 0.6971409916877747\n",
      "Epoch: 1270, Loss: 442.3050842285156, GMM Loss: 372.707763671875, Reward Loss: 0.6959730982780457\n",
      "Epoch: 1280, Loss: 410.82525634765625, GMM Loss: 341.3222961425781, Reward Loss: 0.6950295567512512\n",
      "Epoch: 1290, Loss: 395.953857421875, GMM Loss: 326.39208984375, Reward Loss: 0.69561767578125\n",
      "Epoch: 1300, Loss: 402.0458679199219, GMM Loss: 332.52093505859375, Reward Loss: 0.6952493786811829\n",
      "Epoch: 1310, Loss: 415.01953125, GMM Loss: 345.32733154296875, Reward Loss: 0.6969220638275146\n",
      "Epoch: 1320, Loss: 384.9673767089844, GMM Loss: 315.4706115722656, Reward Loss: 0.6949676871299744\n",
      "Epoch: 1330, Loss: 426.93505859375, GMM Loss: 357.42041015625, Reward Loss: 0.6951463222503662\n",
      "Epoch: 1340, Loss: 415.88885498046875, GMM Loss: 346.3182373046875, Reward Loss: 0.695706307888031\n",
      "Epoch: 1350, Loss: 411.0898132324219, GMM Loss: 341.5390625, Reward Loss: 0.6955075860023499\n",
      "Epoch: 1360, Loss: 405.3066101074219, GMM Loss: 335.7647399902344, Reward Loss: 0.6954187154769897\n",
      "Epoch: 1370, Loss: 376.6314697265625, GMM Loss: 307.1488037109375, Reward Loss: 0.6948267221450806\n",
      "Epoch: 1380, Loss: 396.3720703125, GMM Loss: 326.83831787109375, Reward Loss: 0.6953374147415161\n",
      "Epoch: 1390, Loss: 380.63494873046875, GMM Loss: 311.14306640625, Reward Loss: 0.6949188709259033\n",
      "Epoch: 1400, Loss: 395.1679992675781, GMM Loss: 325.6579284667969, Reward Loss: 0.6951006054878235\n",
      "Epoch: 1410, Loss: 370.55377197265625, GMM Loss: 301.0941162109375, Reward Loss: 0.6945964097976685\n",
      "Epoch: 1420, Loss: 386.6553955078125, GMM Loss: 317.1374206542969, Reward Loss: 0.6951796412467957\n",
      "Epoch: 1430, Loss: 386.23486328125, GMM Loss: 316.7149963378906, Reward Loss: 0.6951985955238342\n",
      "Epoch: 1440, Loss: 376.2113342285156, GMM Loss: 306.69720458984375, Reward Loss: 0.6951412558555603\n",
      "Epoch: 1450, Loss: 387.10052490234375, GMM Loss: 317.4759521484375, Reward Loss: 0.696245551109314\n",
      "Epoch: 1460, Loss: 409.9959716796875, GMM Loss: 340.4566955566406, Reward Loss: 0.6953927278518677\n",
      "Epoch: 1470, Loss: 379.1557922363281, GMM Loss: 309.6369934082031, Reward Loss: 0.6951879858970642\n",
      "Epoch: 1480, Loss: 362.5751953125, GMM Loss: 293.14410400390625, Reward Loss: 0.6943108439445496\n",
      "Epoch: 1490, Loss: 401.98846435546875, GMM Loss: 332.50323486328125, Reward Loss: 0.6948522329330444\n",
      "Epoch: 1500, Loss: 379.5828552246094, GMM Loss: 309.9781799316406, Reward Loss: 0.696046769618988\n",
      "Epoch: 1510, Loss: 380.780029296875, GMM Loss: 311.3096923828125, Reward Loss: 0.6947032809257507\n",
      "Epoch: 1520, Loss: 358.4426574707031, GMM Loss: 288.9825744628906, Reward Loss: 0.6946007609367371\n",
      "Epoch: 1530, Loss: 360.9398193359375, GMM Loss: 291.5195007324219, Reward Loss: 0.6942031383514404\n",
      "Epoch: 1540, Loss: 341.3479309082031, GMM Loss: 271.8870544433594, Reward Loss: 0.6946086883544922\n",
      "Epoch: 1550, Loss: 411.13519287109375, GMM Loss: 341.6339111328125, Reward Loss: 0.6950128674507141\n",
      "Epoch: 1560, Loss: 372.3824462890625, GMM Loss: 302.7998352050781, Reward Loss: 0.6958262920379639\n",
      "Epoch: 1570, Loss: 370.93280029296875, GMM Loss: 301.45172119140625, Reward Loss: 0.6948109269142151\n",
      "Epoch: 1580, Loss: 377.1878356933594, GMM Loss: 307.59716796875, Reward Loss: 0.6959067583084106\n",
      "Epoch: 1590, Loss: 374.74359130859375, GMM Loss: 305.3014221191406, Reward Loss: 0.6944218277931213\n",
      "Epoch: 1600, Loss: 348.50909423828125, GMM Loss: 279.0605773925781, Reward Loss: 0.6944851279258728\n",
      "Epoch: 1610, Loss: 365.9071960449219, GMM Loss: 296.4762268066406, Reward Loss: 0.6943097114562988\n",
      "Epoch: 1620, Loss: 451.19342041015625, GMM Loss: 381.5701599121094, Reward Loss: 0.696232795715332\n",
      "Epoch: 1630, Loss: 350.49835205078125, GMM Loss: 281.01165771484375, Reward Loss: 0.694866955280304\n",
      "Epoch: 1640, Loss: 342.82159423828125, GMM Loss: 273.3464660644531, Reward Loss: 0.6947513818740845\n",
      "Epoch: 1650, Loss: 359.88421630859375, GMM Loss: 290.4562683105469, Reward Loss: 0.6942793726921082\n",
      "Epoch: 1660, Loss: 360.1668395996094, GMM Loss: 290.69366455078125, Reward Loss: 0.6947317123413086\n",
      "Epoch: 1670, Loss: 361.1030578613281, GMM Loss: 291.66448974609375, Reward Loss: 0.6943855881690979\n",
      "Epoch: 1680, Loss: 338.3866882324219, GMM Loss: 268.95355224609375, Reward Loss: 0.6943314075469971\n",
      "Epoch: 1690, Loss: 408.96185302734375, GMM Loss: 339.3683776855469, Reward Loss: 0.6959346532821655\n",
      "Epoch: 1700, Loss: 339.19732666015625, GMM Loss: 269.7624816894531, Reward Loss: 0.6943483948707581\n",
      "Epoch: 1710, Loss: 341.09454345703125, GMM Loss: 271.5381164550781, Reward Loss: 0.695564329624176\n",
      "Epoch: 1720, Loss: 348.03167724609375, GMM Loss: 278.6061706542969, Reward Loss: 0.6942551136016846\n",
      "Epoch: 1730, Loss: 332.1029052734375, GMM Loss: 262.6708068847656, Reward Loss: 0.6943210363388062\n",
      "Epoch: 1740, Loss: 325.416259765625, GMM Loss: 255.89242553710938, Reward Loss: 0.6952382922172546\n",
      "Epoch: 1750, Loss: 333.66064453125, GMM Loss: 264.23663330078125, Reward Loss: 0.6942400336265564\n",
      "Epoch: 1760, Loss: 421.06634521484375, GMM Loss: 351.4975891113281, Reward Loss: 0.6956877112388611\n",
      "Epoch: 1770, Loss: 330.50115966796875, GMM Loss: 261.07415771484375, Reward Loss: 0.6942699551582336\n",
      "Epoch: 1780, Loss: 336.9696960449219, GMM Loss: 267.4407043457031, Reward Loss: 0.6952900290489197\n",
      "Epoch: 1790, Loss: 349.5558166503906, GMM Loss: 280.1419372558594, Reward Loss: 0.694138765335083\n",
      "Epoch: 1800, Loss: 404.7127685546875, GMM Loss: 335.1385192871094, Reward Loss: 0.6957424879074097\n",
      "Epoch: 1810, Loss: 351.419677734375, GMM Loss: 282.0225524902344, Reward Loss: 0.6939712762832642\n",
      "Epoch: 1820, Loss: 310.02703857421875, GMM Loss: 240.60009765625, Reward Loss: 0.6942695379257202\n",
      "Epoch: 1830, Loss: 328.2350769042969, GMM Loss: 258.80816650390625, Reward Loss: 0.6942691206932068\n",
      "Epoch: 1840, Loss: 350.63336181640625, GMM Loss: 281.22509765625, Reward Loss: 0.6940827965736389\n",
      "Epoch: 1850, Loss: 322.3759460449219, GMM Loss: 252.8640899658203, Reward Loss: 0.6951186656951904\n",
      "Epoch: 1860, Loss: 338.9139709472656, GMM Loss: 269.4815673828125, Reward Loss: 0.6943239569664001\n",
      "Epoch: 1870, Loss: 330.86663818359375, GMM Loss: 261.47601318359375, Reward Loss: 0.6939064264297485\n",
      "Epoch: 1880, Loss: 314.4964599609375, GMM Loss: 245.08206176757812, Reward Loss: 0.6941441297531128\n",
      "Epoch: 1890, Loss: 334.72930908203125, GMM Loss: 265.3351135253906, Reward Loss: 0.6939419507980347\n",
      "Epoch: 1900, Loss: 314.17169189453125, GMM Loss: 244.7517547607422, Reward Loss: 0.6941993832588196\n",
      "Epoch: 1910, Loss: 378.65576171875, GMM Loss: 309.1215515136719, Reward Loss: 0.6953420042991638\n",
      "Epoch: 1920, Loss: 327.90118408203125, GMM Loss: 258.46075439453125, Reward Loss: 0.6944044232368469\n",
      "Epoch: 1930, Loss: 317.28021240234375, GMM Loss: 247.78269958496094, Reward Loss: 0.6949750185012817\n",
      "Epoch: 1940, Loss: 308.07867431640625, GMM Loss: 238.67376708984375, Reward Loss: 0.6940490007400513\n",
      "Epoch: 1950, Loss: 347.8081970214844, GMM Loss: 278.3971252441406, Reward Loss: 0.6941107511520386\n",
      "Epoch: 1960, Loss: 318.5574035644531, GMM Loss: 249.1605682373047, Reward Loss: 0.6939684152603149\n",
      "Epoch: 1970, Loss: 300.322509765625, GMM Loss: 230.9213409423828, Reward Loss: 0.6940117478370667\n",
      "Epoch: 1980, Loss: 337.0950622558594, GMM Loss: 267.68218994140625, Reward Loss: 0.6941288113594055\n",
      "Epoch: 1990, Loss: 314.9804992675781, GMM Loss: 245.48182678222656, Reward Loss: 0.6949868202209473\n",
      "Epoch: 2000, Loss: 311.3954162597656, GMM Loss: 241.97247314453125, Reward Loss: 0.6942294836044312\n",
      "Epoch: 2010, Loss: 314.62408447265625, GMM Loss: 245.20529174804688, Reward Loss: 0.6941879987716675\n",
      "Epoch: 2020, Loss: 319.35076904296875, GMM Loss: 249.9461669921875, Reward Loss: 0.6940460801124573\n",
      "Epoch: 2030, Loss: 303.3142395019531, GMM Loss: 233.9264373779297, Reward Loss: 0.6938779354095459\n",
      "Epoch: 2040, Loss: 305.8911437988281, GMM Loss: 236.5181121826172, Reward Loss: 0.6937302947044373\n",
      "Epoch: 2050, Loss: 299.661865234375, GMM Loss: 230.2686309814453, Reward Loss: 0.6939324736595154\n",
      "Epoch: 2060, Loss: 280.6642761230469, GMM Loss: 211.27207946777344, Reward Loss: 0.6939219236373901\n",
      "Epoch: 2070, Loss: 331.5069885253906, GMM Loss: 262.1224365234375, Reward Loss: 0.6938455104827881\n",
      "Epoch: 2080, Loss: 302.34051513671875, GMM Loss: 232.9539794921875, Reward Loss: 0.6938653588294983\n",
      "Epoch: 2090, Loss: 295.30816650390625, GMM Loss: 225.81654357910156, Reward Loss: 0.6949163675308228\n",
      "Epoch: 2100, Loss: 289.06365966796875, GMM Loss: 219.68356323242188, Reward Loss: 0.6938011050224304\n",
      "Epoch: 2110, Loss: 279.54266357421875, GMM Loss: 210.1761016845703, Reward Loss: 0.6936655044555664\n",
      "Epoch: 2120, Loss: 303.72869873046875, GMM Loss: 234.31201171875, Reward Loss: 0.6941669583320618\n",
      "Epoch: 2130, Loss: 351.7904968261719, GMM Loss: 282.3059997558594, Reward Loss: 0.6948450803756714\n",
      "Epoch: 2140, Loss: 285.03424072265625, GMM Loss: 215.64865112304688, Reward Loss: 0.6938560605049133\n",
      "Epoch: 2150, Loss: 294.0616455078125, GMM Loss: 224.675048828125, Reward Loss: 0.6938661336898804\n",
      "Epoch: 2160, Loss: 352.3651123046875, GMM Loss: 282.8873596191406, Reward Loss: 0.6947776079177856\n",
      "Epoch: 2170, Loss: 295.9615783691406, GMM Loss: 226.56085205078125, Reward Loss: 0.6940073370933533\n",
      "Epoch: 2180, Loss: 293.4991455078125, GMM Loss: 224.10205078125, Reward Loss: 0.693970799446106\n",
      "Epoch: 2190, Loss: 280.05841064453125, GMM Loss: 210.60943603515625, Reward Loss: 0.694489598274231\n",
      "Epoch: 2200, Loss: 256.2403564453125, GMM Loss: 186.85989379882812, Reward Loss: 0.6938046216964722\n",
      "Epoch: 2210, Loss: 289.3070983886719, GMM Loss: 219.84829711914062, Reward Loss: 0.6945881247520447\n",
      "Epoch: 2220, Loss: 282.49493408203125, GMM Loss: 213.12107849121094, Reward Loss: 0.6937386393547058\n",
      "Epoch: 2230, Loss: 283.59393310546875, GMM Loss: 214.20327758789062, Reward Loss: 0.6939064264297485\n",
      "Epoch: 2240, Loss: 342.09234619140625, GMM Loss: 272.6119079589844, Reward Loss: 0.6948042511940002\n",
      "Epoch: 2250, Loss: 340.83953857421875, GMM Loss: 271.3797302246094, Reward Loss: 0.6945978999137878\n",
      "Epoch: 2260, Loss: 282.5736999511719, GMM Loss: 213.20127868652344, Reward Loss: 0.6937242746353149\n",
      "Epoch: 2270, Loss: 278.8348083496094, GMM Loss: 209.44515991210938, Reward Loss: 0.6938964128494263\n",
      "Epoch: 2280, Loss: 276.9957275390625, GMM Loss: 207.61756896972656, Reward Loss: 0.6937815546989441\n",
      "Epoch: 2290, Loss: 284.01593017578125, GMM Loss: 214.6471405029297, Reward Loss: 0.6936877965927124\n",
      "Epoch: 2300, Loss: 266.94830322265625, GMM Loss: 197.56832885742188, Reward Loss: 0.6937996745109558\n",
      "Epoch: 2310, Loss: 275.6799011230469, GMM Loss: 206.3069305419922, Reward Loss: 0.6937296986579895\n",
      "Epoch: 2320, Loss: 341.55877685546875, GMM Loss: 272.1125183105469, Reward Loss: 0.6944625377655029\n",
      "Epoch: 2330, Loss: 272.35028076171875, GMM Loss: 202.90988159179688, Reward Loss: 0.694404125213623\n",
      "Epoch: 2340, Loss: 272.08294677734375, GMM Loss: 202.710693359375, Reward Loss: 0.6937224864959717\n",
      "Epoch: 2350, Loss: 265.24609375, GMM Loss: 195.868408203125, Reward Loss: 0.6937769055366516\n",
      "Epoch: 2360, Loss: 348.7032165527344, GMM Loss: 279.24517822265625, Reward Loss: 0.6945804953575134\n",
      "Epoch: 2370, Loss: 267.8312683105469, GMM Loss: 198.44815063476562, Reward Loss: 0.6938310861587524\n",
      "Epoch: 2380, Loss: 270.3359069824219, GMM Loss: 200.95643615722656, Reward Loss: 0.6937946677207947\n",
      "Epoch: 2390, Loss: 280.4446105957031, GMM Loss: 211.08944702148438, Reward Loss: 0.6935515403747559\n",
      "Epoch: 2400, Loss: 265.4576110839844, GMM Loss: 196.0369110107422, Reward Loss: 0.6942068934440613\n",
      "Epoch: 2410, Loss: 268.612548828125, GMM Loss: 199.19070434570312, Reward Loss: 0.6942183971405029\n",
      "Epoch: 2420, Loss: 248.72109985351562, GMM Loss: 179.36196899414062, Reward Loss: 0.693591296672821\n",
      "Epoch: 2430, Loss: 265.44744873046875, GMM Loss: 196.08587646484375, Reward Loss: 0.693615734577179\n",
      "Epoch: 2440, Loss: 268.1949157714844, GMM Loss: 198.7721405029297, Reward Loss: 0.6942277550697327\n",
      "Epoch: 2450, Loss: 264.53289794921875, GMM Loss: 195.11224365234375, Reward Loss: 0.694206714630127\n",
      "Epoch: 2460, Loss: 264.0549621582031, GMM Loss: 194.67417907714844, Reward Loss: 0.6938077807426453\n",
      "Epoch: 2470, Loss: 313.77960205078125, GMM Loss: 244.43287658691406, Reward Loss: 0.6934671998023987\n",
      "Epoch: 2480, Loss: 281.6934814453125, GMM Loss: 212.30734252929688, Reward Loss: 0.6938614249229431\n",
      "Epoch: 2490, Loss: 268.5561828613281, GMM Loss: 199.2027130126953, Reward Loss: 0.693534791469574\n",
      "Epoch: 2500, Loss: 260.875732421875, GMM Loss: 191.51368713378906, Reward Loss: 0.6936203241348267\n",
      "Epoch: 2510, Loss: 262.2837829589844, GMM Loss: 192.85621643066406, Reward Loss: 0.6942755579948425\n",
      "Epoch: 2520, Loss: 264.85882568359375, GMM Loss: 195.4850616455078, Reward Loss: 0.6937377452850342\n",
      "Epoch: 2530, Loss: 253.80653381347656, GMM Loss: 184.44972229003906, Reward Loss: 0.6935681104660034\n",
      "Epoch: 2540, Loss: 296.685302734375, GMM Loss: 227.26292419433594, Reward Loss: 0.694223940372467\n",
      "Epoch: 2550, Loss: 270.8661804199219, GMM Loss: 201.5013427734375, Reward Loss: 0.6936483979225159\n",
      "Epoch: 2560, Loss: 265.9002685546875, GMM Loss: 196.5364532470703, Reward Loss: 0.6936383247375488\n",
      "Epoch: 2570, Loss: 258.3085021972656, GMM Loss: 188.9422607421875, Reward Loss: 0.6936623454093933\n",
      "Epoch: 2580, Loss: 248.52955627441406, GMM Loss: 179.16616821289062, Reward Loss: 0.6936338543891907\n",
      "Epoch: 2590, Loss: 249.0215301513672, GMM Loss: 179.61618041992188, Reward Loss: 0.6940534710884094\n",
      "Epoch: 2600, Loss: 258.34521484375, GMM Loss: 188.97848510742188, Reward Loss: 0.6936671137809753\n",
      "Epoch: 2610, Loss: 261.90325927734375, GMM Loss: 192.55825805664062, Reward Loss: 0.6934499144554138\n",
      "Epoch: 2620, Loss: 257.119384765625, GMM Loss: 187.7508544921875, Reward Loss: 0.6936851739883423\n",
      "Epoch: 2630, Loss: 252.51873779296875, GMM Loss: 183.11048889160156, Reward Loss: 0.6940823793411255\n",
      "Epoch: 2640, Loss: 260.1083679199219, GMM Loss: 190.7413330078125, Reward Loss: 0.693670392036438\n",
      "Epoch: 2650, Loss: 242.5142822265625, GMM Loss: 173.11354064941406, Reward Loss: 0.694007396697998\n",
      "Epoch: 2660, Loss: 244.15664672851562, GMM Loss: 174.7539825439453, Reward Loss: 0.6940266489982605\n",
      "Epoch: 2670, Loss: 252.22682189941406, GMM Loss: 182.85971069335938, Reward Loss: 0.6936711072921753\n",
      "Epoch: 2680, Loss: 255.58494567871094, GMM Loss: 186.23388671875, Reward Loss: 0.6935105919837952\n",
      "Epoch: 2690, Loss: 250.13719177246094, GMM Loss: 180.78672790527344, Reward Loss: 0.6935046315193176\n",
      "Epoch: 2700, Loss: 245.3484344482422, GMM Loss: 175.9844512939453, Reward Loss: 0.6936398148536682\n",
      "Epoch: 2710, Loss: 251.22479248046875, GMM Loss: 181.85855102539062, Reward Loss: 0.6936624646186829\n",
      "Epoch: 2720, Loss: 243.29736328125, GMM Loss: 173.89117431640625, Reward Loss: 0.694061815738678\n",
      "Epoch: 2730, Loss: 245.59689331054688, GMM Loss: 176.2460174560547, Reward Loss: 0.6935086846351624\n",
      "Epoch: 2740, Loss: 237.37237548828125, GMM Loss: 168.0202178955078, Reward Loss: 0.6935214996337891\n",
      "Epoch: 2750, Loss: 247.20999145507812, GMM Loss: 177.85511779785156, Reward Loss: 0.6935486793518066\n",
      "Epoch: 2760, Loss: 244.3577423095703, GMM Loss: 174.99786376953125, Reward Loss: 0.6935988068580627\n",
      "Epoch: 2770, Loss: 246.73497009277344, GMM Loss: 177.3739013671875, Reward Loss: 0.693610668182373\n",
      "Epoch: 2780, Loss: 246.1884765625, GMM Loss: 176.84451293945312, Reward Loss: 0.6934396028518677\n",
      "Epoch: 2790, Loss: 242.62413024902344, GMM Loss: 173.2828369140625, Reward Loss: 0.6934129595756531\n",
      "Epoch: 2800, Loss: 258.76971435546875, GMM Loss: 189.41604614257812, Reward Loss: 0.6935368180274963\n",
      "Epoch: 2810, Loss: 224.1010284423828, GMM Loss: 154.75582885742188, Reward Loss: 0.693452000617981\n",
      "Epoch: 2820, Loss: 240.00924682617188, GMM Loss: 170.666748046875, Reward Loss: 0.6934250593185425\n",
      "Epoch: 2830, Loss: 226.42010498046875, GMM Loss: 157.07568359375, Reward Loss: 0.6934443116188049\n",
      "Epoch: 2840, Loss: 235.72723388671875, GMM Loss: 166.38336181640625, Reward Loss: 0.6934386491775513\n",
      "Epoch: 2850, Loss: 246.44940185546875, GMM Loss: 177.1107635498047, Reward Loss: 0.6933863162994385\n",
      "Epoch: 2860, Loss: 242.5225830078125, GMM Loss: 173.17015075683594, Reward Loss: 0.6935243606567383\n",
      "Epoch: 2870, Loss: 226.1171875, GMM Loss: 156.73263549804688, Reward Loss: 0.6938455700874329\n",
      "Epoch: 2880, Loss: 221.71624755859375, GMM Loss: 152.33721923828125, Reward Loss: 0.6937903165817261\n",
      "Epoch: 2890, Loss: 234.19680786132812, GMM Loss: 164.8585205078125, Reward Loss: 0.6933827996253967\n",
      "Epoch: 2900, Loss: 231.5630340576172, GMM Loss: 162.2117919921875, Reward Loss: 0.6935124397277832\n"
     ]
    },
    {
     "ename": "KeyboardInterrupt",
     "evalue": "",
     "output_type": "error",
     "traceback": [
      "\u001b[0;31m---------------------------------------------------------------------------\u001b[0m",
      "\u001b[0;31mKeyboardInterrupt\u001b[0m                         Traceback (most recent call last)",
      "Cell \u001b[0;32mIn[13], line 50\u001b[0m\n\u001b[1;32m     46\u001b[0m     checkpoint_flag \u001b[38;5;241m=\u001b[39m \u001b[38;5;28;01mTrue\u001b[39;00m\n\u001b[1;32m     49\u001b[0m \u001b[38;5;28;01mfor\u001b[39;00m i \u001b[38;5;129;01min\u001b[39;00m \u001b[38;5;28mrange\u001b[39m(epoch):\n\u001b[0;32m---> 50\u001b[0m     cumulative, rollout_current_hidden, rollout_next_hidden, rollout_latents, rollout_actions, rollout_rewards, rollout_dones \u001b[38;5;241m=\u001b[39m \u001b[43mrollout\u001b[49m\u001b[38;5;241;43m.\u001b[39;49m\u001b[43mdo_rollout\u001b[49m\u001b[43m(\u001b[49m\u001b[43mearly_termination\u001b[49m\u001b[38;5;241;43m=\u001b[39;49m\u001b[38;5;28;43;01mFalse\u001b[39;49;00m\u001b[43m)\u001b[49m\n\u001b[1;32m     51\u001b[0m     rollout_latents \u001b[38;5;241m=\u001b[39m rollout_latents[\u001b[38;5;241m1\u001b[39m:]\n\u001b[1;32m     53\u001b[0m     optimizer\u001b[38;5;241m.\u001b[39mzero_grad()\n",
      "File \u001b[0;32m~/Desktop/daiki/github/ga-world-models-exp/ga-world-models-sampling copy 2/train_mdn.py:184\u001b[0m, in \u001b[0;36mRolloutGenerator.do_rollout\u001b[0;34m(self, render, early_termination)\u001b[0m\n\u001b[1;32m    179\u001b[0m \u001b[38;5;28mself\u001b[39m\u001b[38;5;241m.\u001b[39mrollout_hidden\u001b[38;5;241m.\u001b[39mappend(hidden[\u001b[38;5;241m0\u001b[39m]\u001b[38;5;241m.\u001b[39mcpu()\u001b[38;5;241m.\u001b[39mnumpy())\n\u001b[1;32m    180\u001b[0m \u001b[38;5;66;03m#Steering: Real valued in [-1, 1] \u001b[39;00m\n\u001b[1;32m    181\u001b[0m \u001b[38;5;66;03m#Gas: Real valued in [0, 1]\u001b[39;00m\n\u001b[1;32m    182\u001b[0m \u001b[38;5;66;03m#Break: Real valued in [0, 1]\u001b[39;00m\n\u001b[0;32m--> 184\u001b[0m obs, reward, done, _, _ \u001b[38;5;241m=\u001b[39m \u001b[38;5;28;43mself\u001b[39;49m\u001b[38;5;241;43m.\u001b[39;49m\u001b[43menv\u001b[49m\u001b[38;5;241;43m.\u001b[39;49m\u001b[43mstep\u001b[49m\u001b[43m(\u001b[49m\u001b[43maction\u001b[49m\u001b[43m)\u001b[49m \u001b[38;5;66;03m# 行動を実行し、報酬を受け取る：obs(3, 64, 64), reward, done, info\u001b[39;00m\n\u001b[1;32m    185\u001b[0m \u001b[38;5;28mself\u001b[39m\u001b[38;5;241m.\u001b[39mrollout_rewards\u001b[38;5;241m.\u001b[39mappend(reward)\n\u001b[1;32m    186\u001b[0m \u001b[38;5;28mself\u001b[39m\u001b[38;5;241m.\u001b[39mrollout_dones\u001b[38;5;241m.\u001b[39mappend(done)\n",
      "File \u001b[0;32m~/miniconda3/envs/env_ga_wm/lib/python3.10/site-packages/gym/wrappers/time_limit.py:50\u001b[0m, in \u001b[0;36mTimeLimit.step\u001b[0;34m(self, action)\u001b[0m\n\u001b[1;32m     39\u001b[0m \u001b[38;5;28;01mdef\u001b[39;00m \u001b[38;5;21mstep\u001b[39m(\u001b[38;5;28mself\u001b[39m, action):\n\u001b[1;32m     40\u001b[0m \u001b[38;5;250m    \u001b[39m\u001b[38;5;124;03m\"\"\"Steps through the environment and if the number of steps elapsed exceeds ``max_episode_steps`` then truncate.\u001b[39;00m\n\u001b[1;32m     41\u001b[0m \n\u001b[1;32m     42\u001b[0m \u001b[38;5;124;03m    Args:\u001b[39;00m\n\u001b[0;32m   (...)\u001b[0m\n\u001b[1;32m     48\u001b[0m \n\u001b[1;32m     49\u001b[0m \u001b[38;5;124;03m    \"\"\"\u001b[39;00m\n\u001b[0;32m---> 50\u001b[0m     observation, reward, terminated, truncated, info \u001b[38;5;241m=\u001b[39m \u001b[38;5;28;43mself\u001b[39;49m\u001b[38;5;241;43m.\u001b[39;49m\u001b[43menv\u001b[49m\u001b[38;5;241;43m.\u001b[39;49m\u001b[43mstep\u001b[49m\u001b[43m(\u001b[49m\u001b[43maction\u001b[49m\u001b[43m)\u001b[49m\n\u001b[1;32m     51\u001b[0m     \u001b[38;5;28mself\u001b[39m\u001b[38;5;241m.\u001b[39m_elapsed_steps \u001b[38;5;241m+\u001b[39m\u001b[38;5;241m=\u001b[39m \u001b[38;5;241m1\u001b[39m\n\u001b[1;32m     53\u001b[0m     \u001b[38;5;28;01mif\u001b[39;00m \u001b[38;5;28mself\u001b[39m\u001b[38;5;241m.\u001b[39m_elapsed_steps \u001b[38;5;241m>\u001b[39m\u001b[38;5;241m=\u001b[39m \u001b[38;5;28mself\u001b[39m\u001b[38;5;241m.\u001b[39m_max_episode_steps:\n",
      "File \u001b[0;32m~/miniconda3/envs/env_ga_wm/lib/python3.10/site-packages/gym/wrappers/order_enforcing.py:37\u001b[0m, in \u001b[0;36mOrderEnforcing.step\u001b[0;34m(self, action)\u001b[0m\n\u001b[1;32m     35\u001b[0m \u001b[38;5;28;01mif\u001b[39;00m \u001b[38;5;129;01mnot\u001b[39;00m \u001b[38;5;28mself\u001b[39m\u001b[38;5;241m.\u001b[39m_has_reset:\n\u001b[1;32m     36\u001b[0m     \u001b[38;5;28;01mraise\u001b[39;00m ResetNeeded(\u001b[38;5;124m\"\u001b[39m\u001b[38;5;124mCannot call env.step() before calling env.reset()\u001b[39m\u001b[38;5;124m\"\u001b[39m)\n\u001b[0;32m---> 37\u001b[0m \u001b[38;5;28;01mreturn\u001b[39;00m \u001b[38;5;28;43mself\u001b[39;49m\u001b[38;5;241;43m.\u001b[39;49m\u001b[43menv\u001b[49m\u001b[38;5;241;43m.\u001b[39;49m\u001b[43mstep\u001b[49m\u001b[43m(\u001b[49m\u001b[43maction\u001b[49m\u001b[43m)\u001b[49m\n",
      "File \u001b[0;32m~/miniconda3/envs/env_ga_wm/lib/python3.10/site-packages/gym/wrappers/env_checker.py:39\u001b[0m, in \u001b[0;36mPassiveEnvChecker.step\u001b[0;34m(self, action)\u001b[0m\n\u001b[1;32m     37\u001b[0m     \u001b[38;5;28;01mreturn\u001b[39;00m env_step_passive_checker(\u001b[38;5;28mself\u001b[39m\u001b[38;5;241m.\u001b[39menv, action)\n\u001b[1;32m     38\u001b[0m \u001b[38;5;28;01melse\u001b[39;00m:\n\u001b[0;32m---> 39\u001b[0m     \u001b[38;5;28;01mreturn\u001b[39;00m \u001b[38;5;28;43mself\u001b[39;49m\u001b[38;5;241;43m.\u001b[39;49m\u001b[43menv\u001b[49m\u001b[38;5;241;43m.\u001b[39;49m\u001b[43mstep\u001b[49m\u001b[43m(\u001b[49m\u001b[43maction\u001b[49m\u001b[43m)\u001b[49m\n",
      "File \u001b[0;32m~/miniconda3/envs/env_ga_wm/lib/python3.10/site-packages/gym/envs/box2d/car_racing.py:541\u001b[0m, in \u001b[0;36mCarRacing.step\u001b[0;34m(self, action)\u001b[0m\n\u001b[1;32m    538\u001b[0m \u001b[38;5;28mself\u001b[39m\u001b[38;5;241m.\u001b[39mworld\u001b[38;5;241m.\u001b[39mStep(\u001b[38;5;241m1.0\u001b[39m \u001b[38;5;241m/\u001b[39m FPS, \u001b[38;5;241m6\u001b[39m \u001b[38;5;241m*\u001b[39m \u001b[38;5;241m30\u001b[39m, \u001b[38;5;241m2\u001b[39m \u001b[38;5;241m*\u001b[39m \u001b[38;5;241m30\u001b[39m)\n\u001b[1;32m    539\u001b[0m \u001b[38;5;28mself\u001b[39m\u001b[38;5;241m.\u001b[39mt \u001b[38;5;241m+\u001b[39m\u001b[38;5;241m=\u001b[39m \u001b[38;5;241m1.0\u001b[39m \u001b[38;5;241m/\u001b[39m FPS\n\u001b[0;32m--> 541\u001b[0m \u001b[38;5;28mself\u001b[39m\u001b[38;5;241m.\u001b[39mstate \u001b[38;5;241m=\u001b[39m \u001b[38;5;28;43mself\u001b[39;49m\u001b[38;5;241;43m.\u001b[39;49m\u001b[43m_render\u001b[49m\u001b[43m(\u001b[49m\u001b[38;5;124;43m\"\u001b[39;49m\u001b[38;5;124;43mstate_pixels\u001b[39;49m\u001b[38;5;124;43m\"\u001b[39;49m\u001b[43m)\u001b[49m\n\u001b[1;32m    543\u001b[0m step_reward \u001b[38;5;241m=\u001b[39m \u001b[38;5;241m0\u001b[39m\n\u001b[1;32m    544\u001b[0m terminated \u001b[38;5;241m=\u001b[39m \u001b[38;5;28;01mFalse\u001b[39;00m\n",
      "File \u001b[0;32m~/miniconda3/envs/env_ga_wm/lib/python3.10/site-packages/gym/envs/box2d/car_racing.py:596\u001b[0m, in \u001b[0;36mCarRacing._render\u001b[0;34m(self, mode)\u001b[0m\n\u001b[1;32m    593\u001b[0m trans \u001b[38;5;241m=\u001b[39m pygame\u001b[38;5;241m.\u001b[39mmath\u001b[38;5;241m.\u001b[39mVector2((scroll_x, scroll_y))\u001b[38;5;241m.\u001b[39mrotate_rad(angle)\n\u001b[1;32m    594\u001b[0m trans \u001b[38;5;241m=\u001b[39m (WINDOW_W \u001b[38;5;241m/\u001b[39m \u001b[38;5;241m2\u001b[39m \u001b[38;5;241m+\u001b[39m trans[\u001b[38;5;241m0\u001b[39m], WINDOW_H \u001b[38;5;241m/\u001b[39m \u001b[38;5;241m4\u001b[39m \u001b[38;5;241m+\u001b[39m trans[\u001b[38;5;241m1\u001b[39m])\n\u001b[0;32m--> 596\u001b[0m \u001b[38;5;28;43mself\u001b[39;49m\u001b[38;5;241;43m.\u001b[39;49m\u001b[43m_render_road\u001b[49m\u001b[43m(\u001b[49m\u001b[43mzoom\u001b[49m\u001b[43m,\u001b[49m\u001b[43m \u001b[49m\u001b[43mtrans\u001b[49m\u001b[43m,\u001b[49m\u001b[43m \u001b[49m\u001b[43mangle\u001b[49m\u001b[43m)\u001b[49m\n\u001b[1;32m    597\u001b[0m \u001b[38;5;28mself\u001b[39m\u001b[38;5;241m.\u001b[39mcar\u001b[38;5;241m.\u001b[39mdraw(\n\u001b[1;32m    598\u001b[0m     \u001b[38;5;28mself\u001b[39m\u001b[38;5;241m.\u001b[39msurf,\n\u001b[1;32m    599\u001b[0m     zoom,\n\u001b[0;32m   (...)\u001b[0m\n\u001b[1;32m    602\u001b[0m     mode \u001b[38;5;129;01mnot\u001b[39;00m \u001b[38;5;129;01min\u001b[39;00m [\u001b[38;5;124m\"\u001b[39m\u001b[38;5;124mstate_pixels_list\u001b[39m\u001b[38;5;124m\"\u001b[39m, \u001b[38;5;124m\"\u001b[39m\u001b[38;5;124mstate_pixels\u001b[39m\u001b[38;5;124m\"\u001b[39m],\n\u001b[1;32m    603\u001b[0m )\n\u001b[1;32m    605\u001b[0m \u001b[38;5;28mself\u001b[39m\u001b[38;5;241m.\u001b[39msurf \u001b[38;5;241m=\u001b[39m pygame\u001b[38;5;241m.\u001b[39mtransform\u001b[38;5;241m.\u001b[39mflip(\u001b[38;5;28mself\u001b[39m\u001b[38;5;241m.\u001b[39msurf, \u001b[38;5;28;01mFalse\u001b[39;00m, \u001b[38;5;28;01mTrue\u001b[39;00m)\n",
      "File \u001b[0;32m~/miniconda3/envs/env_ga_wm/lib/python3.10/site-packages/gym/envs/box2d/car_racing.py:667\u001b[0m, in \u001b[0;36mCarRacing._render_road\u001b[0;34m(self, zoom, translation, angle)\u001b[0m\n\u001b[1;32m    665\u001b[0m poly \u001b[38;5;241m=\u001b[39m [(p[\u001b[38;5;241m0\u001b[39m], p[\u001b[38;5;241m1\u001b[39m]) \u001b[38;5;28;01mfor\u001b[39;00m p \u001b[38;5;129;01min\u001b[39;00m poly]\n\u001b[1;32m    666\u001b[0m color \u001b[38;5;241m=\u001b[39m [\u001b[38;5;28mint\u001b[39m(c) \u001b[38;5;28;01mfor\u001b[39;00m c \u001b[38;5;129;01min\u001b[39;00m color]\n\u001b[0;32m--> 667\u001b[0m \u001b[38;5;28;43mself\u001b[39;49m\u001b[38;5;241;43m.\u001b[39;49m\u001b[43m_draw_colored_polygon\u001b[49m\u001b[43m(\u001b[49m\u001b[38;5;28;43mself\u001b[39;49m\u001b[38;5;241;43m.\u001b[39;49m\u001b[43msurf\u001b[49m\u001b[43m,\u001b[49m\u001b[43m \u001b[49m\u001b[43mpoly\u001b[49m\u001b[43m,\u001b[49m\u001b[43m \u001b[49m\u001b[43mcolor\u001b[49m\u001b[43m,\u001b[49m\u001b[43m \u001b[49m\u001b[43mzoom\u001b[49m\u001b[43m,\u001b[49m\u001b[43m \u001b[49m\u001b[43mtranslation\u001b[49m\u001b[43m,\u001b[49m\u001b[43m \u001b[49m\u001b[43mangle\u001b[49m\u001b[43m)\u001b[49m\n",
      "File \u001b[0;32m~/miniconda3/envs/env_ga_wm/lib/python3.10/site-packages/gym/envs/box2d/car_racing.py:749\u001b[0m, in \u001b[0;36mCarRacing._draw_colored_polygon\u001b[0;34m(self, surface, poly, color, zoom, translation, angle, clip)\u001b[0m\n\u001b[1;32m    741\u001b[0m poly \u001b[38;5;241m=\u001b[39m [\n\u001b[1;32m    742\u001b[0m     (c[\u001b[38;5;241m0\u001b[39m] \u001b[38;5;241m*\u001b[39m zoom \u001b[38;5;241m+\u001b[39m translation[\u001b[38;5;241m0\u001b[39m], c[\u001b[38;5;241m1\u001b[39m] \u001b[38;5;241m*\u001b[39m zoom \u001b[38;5;241m+\u001b[39m translation[\u001b[38;5;241m1\u001b[39m]) \u001b[38;5;28;01mfor\u001b[39;00m c \u001b[38;5;129;01min\u001b[39;00m poly\n\u001b[1;32m    743\u001b[0m ]\n\u001b[1;32m    744\u001b[0m \u001b[38;5;66;03m# This checks if the polygon is out of bounds of the screen, and we skip drawing if so.\u001b[39;00m\n\u001b[1;32m    745\u001b[0m \u001b[38;5;66;03m# Instead of calculating exactly if the polygon and screen overlap,\u001b[39;00m\n\u001b[1;32m    746\u001b[0m \u001b[38;5;66;03m# we simply check if the polygon is in a larger bounding box whose dimension\u001b[39;00m\n\u001b[1;32m    747\u001b[0m \u001b[38;5;66;03m# is greater than the screen by MAX_SHAPE_DIM, which is the maximum\u001b[39;00m\n\u001b[1;32m    748\u001b[0m \u001b[38;5;66;03m# diagonal length of an environment object\u001b[39;00m\n\u001b[0;32m--> 749\u001b[0m \u001b[38;5;28;01mif\u001b[39;00m \u001b[38;5;129;01mnot\u001b[39;00m clip \u001b[38;5;129;01mor\u001b[39;00m \u001b[38;5;28;43many\u001b[39;49m\u001b[43m(\u001b[49m\n\u001b[1;32m    750\u001b[0m \u001b[43m    \u001b[49m\u001b[43m(\u001b[49m\u001b[38;5;241;43m-\u001b[39;49m\u001b[43mMAX_SHAPE_DIM\u001b[49m\u001b[43m \u001b[49m\u001b[38;5;241;43m<\u001b[39;49m\u001b[38;5;241;43m=\u001b[39;49m\u001b[43m \u001b[49m\u001b[43mcoord\u001b[49m\u001b[43m[\u001b[49m\u001b[38;5;241;43m0\u001b[39;49m\u001b[43m]\u001b[49m\u001b[43m \u001b[49m\u001b[38;5;241;43m<\u001b[39;49m\u001b[38;5;241;43m=\u001b[39;49m\u001b[43m \u001b[49m\u001b[43mWINDOW_W\u001b[49m\u001b[43m \u001b[49m\u001b[38;5;241;43m+\u001b[39;49m\u001b[43m \u001b[49m\u001b[43mMAX_SHAPE_DIM\u001b[49m\u001b[43m)\u001b[49m\n\u001b[1;32m    751\u001b[0m \u001b[43m    \u001b[49m\u001b[38;5;129;43;01mand\u001b[39;49;00m\u001b[43m \u001b[49m\u001b[43m(\u001b[49m\u001b[38;5;241;43m-\u001b[39;49m\u001b[43mMAX_SHAPE_DIM\u001b[49m\u001b[43m \u001b[49m\u001b[38;5;241;43m<\u001b[39;49m\u001b[38;5;241;43m=\u001b[39;49m\u001b[43m \u001b[49m\u001b[43mcoord\u001b[49m\u001b[43m[\u001b[49m\u001b[38;5;241;43m1\u001b[39;49m\u001b[43m]\u001b[49m\u001b[43m \u001b[49m\u001b[38;5;241;43m<\u001b[39;49m\u001b[38;5;241;43m=\u001b[39;49m\u001b[43m \u001b[49m\u001b[43mWINDOW_H\u001b[49m\u001b[43m \u001b[49m\u001b[38;5;241;43m+\u001b[39;49m\u001b[43m \u001b[49m\u001b[43mMAX_SHAPE_DIM\u001b[49m\u001b[43m)\u001b[49m\n\u001b[1;32m    752\u001b[0m \u001b[43m    \u001b[49m\u001b[38;5;28;43;01mfor\u001b[39;49;00m\u001b[43m \u001b[49m\u001b[43mcoord\u001b[49m\u001b[43m \u001b[49m\u001b[38;5;129;43;01min\u001b[39;49;00m\u001b[43m \u001b[49m\u001b[43mpoly\u001b[49m\n\u001b[1;32m    753\u001b[0m \u001b[43m\u001b[49m\u001b[43m)\u001b[49m:\n\u001b[1;32m    754\u001b[0m     gfxdraw\u001b[38;5;241m.\u001b[39maapolygon(\u001b[38;5;28mself\u001b[39m\u001b[38;5;241m.\u001b[39msurf, poly, color)\n\u001b[1;32m    755\u001b[0m     gfxdraw\u001b[38;5;241m.\u001b[39mfilled_polygon(\u001b[38;5;28mself\u001b[39m\u001b[38;5;241m.\u001b[39msurf, poly, color)\n",
      "File \u001b[0;32m~/miniconda3/envs/env_ga_wm/lib/python3.10/site-packages/gym/envs/box2d/car_racing.py:749\u001b[0m, in \u001b[0;36m<genexpr>\u001b[0;34m(.0)\u001b[0m\n\u001b[1;32m    741\u001b[0m poly \u001b[38;5;241m=\u001b[39m [\n\u001b[1;32m    742\u001b[0m     (c[\u001b[38;5;241m0\u001b[39m] \u001b[38;5;241m*\u001b[39m zoom \u001b[38;5;241m+\u001b[39m translation[\u001b[38;5;241m0\u001b[39m], c[\u001b[38;5;241m1\u001b[39m] \u001b[38;5;241m*\u001b[39m zoom \u001b[38;5;241m+\u001b[39m translation[\u001b[38;5;241m1\u001b[39m]) \u001b[38;5;28;01mfor\u001b[39;00m c \u001b[38;5;129;01min\u001b[39;00m poly\n\u001b[1;32m    743\u001b[0m ]\n\u001b[1;32m    744\u001b[0m \u001b[38;5;66;03m# This checks if the polygon is out of bounds of the screen, and we skip drawing if so.\u001b[39;00m\n\u001b[1;32m    745\u001b[0m \u001b[38;5;66;03m# Instead of calculating exactly if the polygon and screen overlap,\u001b[39;00m\n\u001b[1;32m    746\u001b[0m \u001b[38;5;66;03m# we simply check if the polygon is in a larger bounding box whose dimension\u001b[39;00m\n\u001b[1;32m    747\u001b[0m \u001b[38;5;66;03m# is greater than the screen by MAX_SHAPE_DIM, which is the maximum\u001b[39;00m\n\u001b[1;32m    748\u001b[0m \u001b[38;5;66;03m# diagonal length of an environment object\u001b[39;00m\n\u001b[0;32m--> 749\u001b[0m \u001b[38;5;28;01mif\u001b[39;00m \u001b[38;5;129;01mnot\u001b[39;00m clip \u001b[38;5;129;01mor\u001b[39;00m \u001b[38;5;28many\u001b[39m(\n\u001b[1;32m    750\u001b[0m     (\u001b[38;5;241m-\u001b[39mMAX_SHAPE_DIM \u001b[38;5;241m<\u001b[39m\u001b[38;5;241m=\u001b[39m coord[\u001b[38;5;241m0\u001b[39m] \u001b[38;5;241m<\u001b[39m\u001b[38;5;241m=\u001b[39m WINDOW_W \u001b[38;5;241m+\u001b[39m MAX_SHAPE_DIM)\n\u001b[1;32m    751\u001b[0m     \u001b[38;5;129;01mand\u001b[39;00m (\u001b[38;5;241m-\u001b[39mMAX_SHAPE_DIM \u001b[38;5;241m<\u001b[39m\u001b[38;5;241m=\u001b[39m coord[\u001b[38;5;241m1\u001b[39m] \u001b[38;5;241m<\u001b[39m\u001b[38;5;241m=\u001b[39m WINDOW_H \u001b[38;5;241m+\u001b[39m MAX_SHAPE_DIM)\n\u001b[1;32m    752\u001b[0m     \u001b[38;5;28;01mfor\u001b[39;00m coord \u001b[38;5;129;01min\u001b[39;00m poly\n\u001b[1;32m    753\u001b[0m ):\n\u001b[1;32m    754\u001b[0m     gfxdraw\u001b[38;5;241m.\u001b[39maapolygon(\u001b[38;5;28mself\u001b[39m\u001b[38;5;241m.\u001b[39msurf, poly, color)\n\u001b[1;32m    755\u001b[0m     gfxdraw\u001b[38;5;241m.\u001b[39mfilled_polygon(\u001b[38;5;28mself\u001b[39m\u001b[38;5;241m.\u001b[39msurf, poly, color)\n",
      "\u001b[0;31mKeyboardInterrupt\u001b[0m: "
     ]
    }
   ],
   "source": [
    "dir_path = './results/'\n",
    "files = os.listdir(dir_path)\n",
    "files = [f for f in files if 'mdn_' in f]\n",
    "\n",
    "num = -1\n",
    "idx = 0\n",
    "checkpoint_file = ''\n",
    "for idx, fi in enumerate(files):\n",
    "    Gnum = fi.split('_')[1].split('.')[0]\n",
    "    Gnum = int(Gnum)\n",
    "    if Gnum > num:\n",
    "        checkpoint_file = fi\n",
    "        num = Gnum\n",
    "        \n",
    "checkpoint_path = dir_path + checkpoint_file\n",
    "\n",
    "epoch = 2000\n",
    "device = \"cuda\"\n",
    "time_limit = 2000\n",
    "discrete = 0\n",
    "epoch_num = 5\n",
    "ASIZE, LSIZE, RSIZE, RED_SIZE, SIZE = 3, 32, 256, 64, 64\n",
    "\n",
    "s = torch.load(file_path)\n",
    "mdrnn = MDRNNCell(LSIZE, ASIZE, RSIZE, 5).to(device)\n",
    "mdrnn.load_state_dict(s['mdrnn'])\n",
    "\n",
    "for param in mdrnn.rnn.parameters():\n",
    "    param.requires_grad = False\n",
    "\n",
    "mdn = mdrnn.gmm_linear\n",
    "\n",
    "rollout = RolloutGenerator(device, time_limit, discrete)\n",
    "\n",
    "optimizer = optim.Adamax(mdn.parameters(), lr=7*1e-4)\n",
    "\n",
    "rollouts_cumulative, rollouts_current_hidden, rollouts_next_hidden, rollouts_latents, rollouts_actions, rollouts_rewards, rollouts_dones = rollout.get_rollout()\n",
    "batch_idx = np.arange(len(rollouts_cumulative))\n",
    "\n",
    "for i in range(epoch_num):\n",
    "    np.random.shuffle(batch_idx)\n",
    "    losses = []\n",
    "    losses_mdn = []\n",
    "    losses_reward = []\n",
    "    print(\"Epoch: \", i+1)\n",
    "    for j in range(len(rollouts_cumulative)):\n",
    "        cumulative = rollouts_cumulative[batch_idx[j]].to(device)\n",
    "        rollout_current_hidden = rollouts_current_hidden[batch_idx[j]].to(device)\n",
    "        rollout_next_hidden = rollouts_next_hidden[batch_idx[j]].to(device)\n",
    "        rollout_latents = rollouts_latents[batch_idx[j]].to(device)\n",
    "        rollout_actions = rollouts_actions[batch_idx[j]].to(device)\n",
    "        rollout_rewards = rollouts_rewards[batch_idx[j]].to(device)\n",
    "        rollout_dones = rollouts_dones[batch_idx[j]].to(device)\n",
    "\n",
    "        rollout_latents = rollout_latents[1:]\n",
    "\n",
    "        optimizer.zero_grad()\n",
    "\n",
    "        mdn_input = rollout_next_hidden.reshape(-1, RSIZE)\n",
    "        mdn_input = torch.tensor(mdn_input, dtype=torch.float32, device=device)\n",
    "        mdn_out = mdn(mdn_input)\n",
    "        mus = mdn_out[:, :5 * LSIZE].reshape(-1, 5, LSIZE)\n",
    "        sigmas = mdn_out[:, 5 * LSIZE: 2*5*LSIZE].reshape(-1, 5, LSIZE)\n",
    "        pi = mdn_out[:, 2*5*LSIZE:2*5*LSIZE+5].reshape(-1, 5)\n",
    "        logpi = F.log_softmax(pi, dim=-2)\n",
    "        reward = mdn_out[:, -2]\n",
    "        done = mdn_out[:, -1]\n",
    "\n",
    "        rollout_latents = torch.tensor(rollout_latents, dtype=torch.float32, device=device)\n",
    "        g_loss = gmm_loss(rollout_latents, mus, sigmas, logpi, reduce=True)\n",
    "\n",
    "        rollout_rewards = torch.tensor(rollout_rewards, dtype=torch.float32, device=device).view(-1, 1)\n",
    "        reward = reward.view(-1, 1)\n",
    "        # print(rollout_rewards.shape)\n",
    "        # print(reward.shape)\n",
    "        r_loss = reward_loss(rollout_rewards, reward, reduce=True)\n",
    "\n",
    "        loss = g_loss + r_loss\n",
    "\n",
    "        loss.backward()\n",
    "        optimizer.step()\n",
    "\n",
    "        losses.append(loss.item())\n",
    "        losses_mdn.append(g_loss.item())\n",
    "        losses_reward.append(r_loss.item())\n",
    "\n",
    "        if j % 100 == 0:\n",
    "            print(\"Epoch: {}, Batch: {}, Loss: {}, GMM Loss: {}, Reward Loss: {}\".format(i+1, j+1, loss.item(), g_loss.item(), r_loss.item()))\n",
    "            checkpoint = {\n",
    "                'mdn': mdn.state_dict(),\n",
    "                'optimizer': optimizer.state_dict(),\n",
    "                'epoch': i+1,\n",
    "                'batch': j+1\n",
    "            }\n",
    "            torch.save(checkpoint, './results/mdn_{0}_{1}.pth'.format(i+1, j+1))\n",
    "\n",
    "    print(\"Epoch: {}, Batch: {}, Loss: {}, GMM Loss: {}, Reward Loss: {}\".format(i+1, j+1, loss.item(), g_loss.item(), r_loss.item()))\n",
    "    print(\"Finish\")\n",
    "\n",
    "    loss = pd.DataFrame(losses)\n",
    "    loss_mdn = pd.DataFrame(losses_mdn)\n",
    "    loss_reward = pd.DataFrame(losses_reward)\n",
    "\n",
    "    loss.to_csv('./results/loss_{0}.csv'.format(i+1))\n",
    "    loss_mdn.to_csv('./results/loss_mdn_{0}.csv'.format(i+1))\n",
    "    loss_reward.to_csv('./results/loss_reward_{0}.csv'.format(i+1))"
   ]
  },
  {
   "cell_type": "code",
   "execution_count": 8,
   "metadata": {},
   "outputs": [
    {
     "data": {
      "text/plain": [
       "[<matplotlib.lines.Line2D at 0x7f729489f370>]"
      ]
     },
     "execution_count": 8,
     "metadata": {},
     "output_type": "execute_result"
    },
    {
     "data": {
      "image/png": "[encoded data removed]",
      "text/plain": [
       "<Figure size 640x480 with 1 Axes>"
      ]
     },
     "metadata": {},
     "output_type": "display_data"
    }
   ],
   "source": [
    "import matplotlib.pyplot as plt\n",
    "\n",
    "plt.plot(losses_reward)"
   ]
  },
  {
   "cell_type": "code",
   "execution_count": 9,
   "metadata": {},
   "outputs": [
    {
     "data": {
      "text/plain": [
       "[<matplotlib.lines.Line2D at 0x7f72927c5ab0>]"
      ]
     },
     "execution_count": 9,
     "metadata": {},
     "output_type": "execute_result"
    },
    {
     "data": {
      "image/png": "[encoded data removed]",
      "text/plain": [
       "<Figure size 640x480 with 1 Axes>"
      ]
     },
     "metadata": {},
     "output_type": "display_data"
    }
   ],
   "source": [
    "plt.plot(losses)"
   ]
  },
  {
   "cell_type": "code",
   "execution_count": 10,
   "metadata": {
    "scrolled": true
   },
   "outputs": [
    {
     "data": {
      "text/plain": [
       "[<matplotlib.lines.Line2D at 0x7f72926330d0>]"
      ]
     },
     "execution_count": 10,
     "metadata": {},
     "output_type": "execute_result"
    },
    {
     "data": {
      "image/png": "[encoded data removed]",
      "text/plain": [
       "<Figure size 640x480 with 1 Axes>"
      ]
     },
     "metadata": {},
     "output_type": "display_data"
    }
   ],
   "source": [
    "plt.plot(losses_mdn)"
   ]
  },
  {
   "cell_type": "code",
   "execution_count": null,
   "metadata": {},
   "outputs": [],
   "source": [
    "# copy2\n",
    "# Adamax\n",
    "\n",
    "# 10 pattern\n",
    "lr = [1.0, 1e-1, 1e-2, 1e-3, 1e-4, 1e-5, 1e-6, 1e-7, 7*1e-4, 7*1e-5]"
   ]
  }
 ],
 "metadata": {
  "kernelspec": {
   "display_name": "env_ga_wm",
   "language": "python",
   "name": "env_ga_wm"
  },
  "language_info": {
   "codemirror_mode": {
    "name": "ipython",
    "version": 3
   },
   "file_extension": ".py",
   "mimetype": "text/x-python",
   "name": "python",
   "nbconvert_exporter": "python",
   "pygments_lexer": "ipython3",
   "version": "3.10.11"
  }
 },
 "nbformat": 4,
 "nbformat_minor": 4
}
